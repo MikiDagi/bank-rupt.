{
 "cells": [
  {
   "cell_type": "markdown",
   "metadata": {},
   "source": [
    "## <u>`POLAND BANKRUPTCY DATASET` TO CLASSIFY WEATHER A CERTAIN BANK WILL GO `BUNKRUPTCY OR NOT` IN THE NEXT FIVE YEARS.</u>"
   ]
  },
  {
   "cell_type": "markdown",
   "metadata": {},
   "source": [
    "##### The dataset is about bankruptcy prediction of Polish companies. The data was collected from Emerging Markets Information Service `(EMIS, http://www.securities.com),` which is a database containing information on emerging markets around the world. The bankrupt companies were analyzed in the period 2000-2012, while the still operating companies were evaluated from 2007 to 2013.\n",
    "\n",
    "##### The data contains financial rates from 1st year of the forecasting period and corresponding class label that indicates bankruptcy status after 5 years. The data contains 7027 instances (financial statements), 271 represents bankrupted companies, 6756 firms that did not bankrupt in the forecasting period.\n",
    "\n",
    "##### We will explore the data using EDA, and different mechanisms in order to see each bank status and also we will  build classification model.\n",
    "\n"
   ]
  },
  {
   "cell_type": "markdown",
   "metadata": {},
   "source": [
    "\n",
    "# -----------------------------<b> `ATTRIBUTE INFORMATION`</b> ----------------------------\n",
    "<p>\n",
    "\n",
    "`Attr1`\tnet profit / total assets\n",
    "\n",
    "`Attr2`\ttotal liabilities / total assets\n",
    "\n",
    "`Attr3`\tworking capital / total assets\n",
    "\n",
    "`Attr4`\tcurrent assets / short-term liabilities\n",
    "\n",
    "`Attr5`\t[(cash + short-term securities + receivables - short-term liabilities) / (operating expenses - depreciation)] * 365\n",
    "\n",
    "`Attr6`\tretained earnings / total assets\n",
    "\n",
    "`Attr7`\tEBIT / total assets\n",
    "\n",
    "`Attr8`\tbook value of equity / total liabilities\n",
    "\n",
    "`Attr9`\tsales / total assets\n",
    "\n",
    "`Attr10` equity / total assets\n",
    "\n",
    "`Attr11` (gross profit + extraordinary items + financial expenses) / total assets\n",
    "\n",
    "`Attr12` gross profit / short-term liabilities\n",
    "\n",
    "`Attr13` (gross profit + depreciation) / sales\n",
    "\n",
    "`Attr14`\t(gross profit + interest) / total assets\n",
    "\n",
    "`Attr15`\t(total liabilities * 365) / (gross profit + depreciation)\n",
    "\n",
    "`Attr16`\t(gross profit + depreciation) / total liabilities\n",
    "\n",
    "`Attr17`\ttotal assets / total liabilities\n",
    "\n",
    "`Attr18`\tgross profit / total assets\n",
    "\n",
    "`Attr19`\tgross profit / sales\n",
    "\n",
    "`Attr20`\t(inventory * 365) / sales\n",
    "\n",
    "`Attr21`\tsales (n) / sales (n-1)\n",
    "\n",
    "`Attr22`\tprofit on operating activities / total assets\n",
    "\n",
    "`Attr23`\tnet profit / sales\n",
    "\n",
    "`Attr24`\tgross profit (in 3 years) / total assets\n",
    "\n",
    "`Attr25`\t(equity - share capital) / total assets\n",
    "\n",
    "`Attr26`\t(net profit + depreciation) / total liabilities\n",
    "\n",
    "`Attr27`\tprofit on operating activities / financial expenses\n",
    "\n",
    "`Attr28`\tworking capital / fixed assets\n",
    "\n",
    "`Attr29`\tlogarithm of total assets\n",
    "\n",
    "`Attr30`\t(total liabilities - cash) / sales\n",
    "\n",
    "`Attr31`\t(gross profit + interest) / sales\n",
    "\n",
    "`Attr32`\t(current liabilities * 365) / cost of products sold\n",
    "\n",
    "`Attr33`\toperating expenses / short-term liabilities\n",
    "\n",
    "`Attr34`\toperating expenses / total liabilities\n",
    "\n",
    "`Attr35`\tprofit on sales / total assets\n",
    "\n",
    "`Attr36`\ttotal sales / total assets\n",
    "\n",
    "`Attr37`\t(current assets - inventories) / long-term liabilities\n",
    "\n",
    "`Attr38`\tconstant capital / total assets\n",
    "\n",
    "`Attr39`\tprofit on sales / sales\n",
    "\n",
    "`Attr40`\t(current assets - inventory - receivables) / short-term liabilities\n",
    "\n",
    "`Attr41`\ttotal liabilities / ((profit on operating activities + depreciation) * (12/365))\n",
    "\n",
    "`Attr42`\tprofit on operating activities / sales\n",
    "\n",
    "`Attr43`\trotation receivables + inventory turnover in days\n",
    "\n",
    "`Attr44`\t(receivables * 365) / sales\n",
    "\n",
    "`Attr45`\tnet profit / inventory\n",
    "\n",
    "`Attr46`\t(current assets - inventory) / short-term liabilities\n",
    "\n",
    "`Attr47`\t(inventory * 365) / cost of products sold\n",
    "\n",
    "`Attr48`\tEBITDA (profit on operating activities - depreciation) / total assets\n",
    "\n",
    "`Attr49`\tEBITDA (profit on operating activities - depreciation) / sales\n",
    "\n",
    "`Attr50`\tcurrent assets / total liabilities\n",
    "\n",
    "`Attr51`\tshort-term liabilities / total assets\n",
    "\n",
    "`Attr52`\t(short-term liabilities * 365) / cost of products sold)\n",
    "\n",
    "`Attr53`\tequity / fixed assets\n",
    "\n",
    "`Attr54`\tconstant capital / fixed assets\n",
    "\n",
    "`Attr55`\tworking capital\n",
    "\n",
    "`Attr56`\t(sales - cost of products sold) / sales\n",
    "\n",
    "`Attr57`\t(current assets - inventory - short-term liabilities) / (sales - gross profit - depreciation)\n",
    "\n",
    "`Attr58`\ttotal costs /total sales\n",
    "\n",
    "`Attr59`\tlong-term liabilities / equity\n",
    "\n",
    "`Attr60`\tsales / inventory\n",
    "\n",
    "`Attr61`\tsales / receivables\n",
    "\n",
    "`Attr62`\t(short-term liabilities *365) / sales\n",
    "\n",
    "`Attr63`\tsales / short-term liabilities\n",
    "\n",
    "`Attr64`\tsales / fixed assets\n",
    "#  `--------------------------- <<<>>> --------------------------`\n",
    "</ol>\n",
    "</p>\n"
   ]
  },
  {
   "cell_type": "markdown",
   "metadata": {},
   "source": [
    "#### <p> To perform our Data Analysis And Machine Learning tasks we should import those below libraries.</p>"
   ]
  },
  {
   "cell_type": "code",
   "execution_count": 46,
   "metadata": {},
   "outputs": [],
   "source": [
    "import warnings\n",
    "warnings.filterwarnings(\"ignore\")\n",
    "import pandas as pd        \n",
    "import plotly.express as px  \n",
    "import matplotlib.pyplot as plt   \n",
    "import numpy as np    \n",
    "import seaborn as sns\n",
    "from scipy.io import arff\n",
    "from sklearn.tree import DecisionTreeClassifier\n",
    "from sklearn.ensemble import RandomForestClassifier,GradientBoostingClassifier,AdaBoostClassifier,VotingClassifier,StackingClassifier\n",
    "from sklearn.linear_model import LogisticRegression\n",
    "from sklearn.neighbors import KNeighborsClassifier\n",
    "import xgboost as xgb\n",
    "from sklearn.svm import SVC\n",
    "from sklearn.metrics import classification_report,confusion_matrix\n",
    "from sklearn.impute import KNNImputer\n",
    "from sklearn.experimental import enable_iterative_imputer\n",
    "from sklearn.impute import IterativeImputer\n",
    "from sklearn.impute import SimpleImputer\n",
    "from imblearn.over_sampling import RandomOverSampler\n",
    "from imblearn.under_sampling import RandomUnderSampler\n",
    "from sklearn.pipeline import make_pipeline\n",
    "from sklearn.model_selection import train_test_split,RandomizedSearchCV,KFold\n",
    "from sklearn.preprocessing import StandardScaler\n",
    "import missingno as msno\n",
    "from sklearn.metrics import accuracy_score\n",
    "    "
   ]
  },
  {
   "cell_type": "code",
   "execution_count": 184,
   "metadata": {},
   "outputs": [],
   "source": [
    "data_year1=arff.loadarff(\"./1year.arff\")\n",
    "data_year2=arff.loadarff(\"./2year.arff\")\n",
    "data_year3=arff.loadarff(\"./3year.arff\")\n",
    "data_year4=arff.loadarff(\"./4year.arff\")\n",
    "data_year5=arff.loadarff(\"./5year.arff\")\n",
    "df1=pd.DataFrame(data_year1[0])\n",
    "df2=pd.DataFrame(data_year2[0])\n",
    "df3=pd.DataFrame(data_year3[0])\n",
    "df4=pd.DataFrame(data_year4[0])\n",
    "df5=pd.DataFrame(data_year5[0])\n"
   ]
  },
  {
   "cell_type": "markdown",
   "metadata": {},
   "source": [
    "# Lets look in to our dataset using different mechanisms.\n",
    "#### - To see the first five rows of the dataset we will use `head()`.\n",
    "#### - To see dataset informations like `columns,null values, numbur of entries and data types` using `info()`. "
   ]
  },
  {
   "cell_type": "code",
   "execution_count": 185,
   "metadata": {},
   "outputs": [
    {
     "name": "stdout",
     "output_type": "stream",
     "text": [
      "<class 'pandas.core.frame.DataFrame'>\n",
      "RangeIndex: 7027 entries, 0 to 7026\n",
      "Data columns (total 65 columns):\n",
      " #   Column  Non-Null Count  Dtype  \n",
      "---  ------  --------------  -----  \n",
      " 0   Attr1   7024 non-null   float64\n",
      " 1   Attr2   7024 non-null   float64\n",
      " 2   Attr3   7024 non-null   float64\n",
      " 3   Attr4   6997 non-null   float64\n",
      " 4   Attr5   7019 non-null   float64\n",
      " 5   Attr6   7024 non-null   float64\n",
      " 6   Attr7   7024 non-null   float64\n",
      " 7   Attr8   7002 non-null   float64\n",
      " 8   Attr9   7026 non-null   float64\n",
      " 9   Attr10  7024 non-null   float64\n",
      " 10  Attr11  6988 non-null   float64\n",
      " 11  Attr12  6997 non-null   float64\n",
      " 12  Attr13  7027 non-null   float64\n",
      " 13  Attr14  7024 non-null   float64\n",
      " 14  Attr15  7025 non-null   float64\n",
      " 15  Attr16  7002 non-null   float64\n",
      " 16  Attr17  7002 non-null   float64\n",
      " 17  Attr18  7024 non-null   float64\n",
      " 18  Attr19  7027 non-null   float64\n",
      " 19  Attr20  7027 non-null   float64\n",
      " 20  Attr21  5405 non-null   float64\n",
      " 21  Attr22  7024 non-null   float64\n",
      " 22  Attr23  7027 non-null   float64\n",
      " 23  Attr24  6903 non-null   float64\n",
      " 24  Attr25  7024 non-null   float64\n",
      " 25  Attr26  7002 non-null   float64\n",
      " 26  Attr27  6716 non-null   float64\n",
      " 27  Attr28  6993 non-null   float64\n",
      " 28  Attr29  7024 non-null   float64\n",
      " 29  Attr30  7027 non-null   float64\n",
      " 30  Attr31  7027 non-null   float64\n",
      " 31  Attr32  6989 non-null   float64\n",
      " 32  Attr33  6997 non-null   float64\n",
      " 33  Attr34  7002 non-null   float64\n",
      " 34  Attr35  7024 non-null   float64\n",
      " 35  Attr36  7024 non-null   float64\n",
      " 36  Attr37  4287 non-null   float64\n",
      " 37  Attr38  7024 non-null   float64\n",
      " 38  Attr39  7027 non-null   float64\n",
      " 39  Attr40  6997 non-null   float64\n",
      " 40  Attr41  6943 non-null   float64\n",
      " 41  Attr42  7027 non-null   float64\n",
      " 42  Attr43  7027 non-null   float64\n",
      " 43  Attr44  7027 non-null   float64\n",
      " 44  Attr45  6893 non-null   float64\n",
      " 45  Attr46  6996 non-null   float64\n",
      " 46  Attr47  6998 non-null   float64\n",
      " 47  Attr48  7024 non-null   float64\n",
      " 48  Attr49  7027 non-null   float64\n",
      " 49  Attr50  7002 non-null   float64\n",
      " 50  Attr51  7024 non-null   float64\n",
      " 51  Attr52  6998 non-null   float64\n",
      " 52  Attr53  6993 non-null   float64\n",
      " 53  Attr54  6993 non-null   float64\n",
      " 54  Attr55  7027 non-null   float64\n",
      " 55  Attr56  7027 non-null   float64\n",
      " 56  Attr57  7026 non-null   float64\n",
      " 57  Attr58  7027 non-null   float64\n",
      " 58  Attr59  7026 non-null   float64\n",
      " 59  Attr60  6892 non-null   float64\n",
      " 60  Attr61  7005 non-null   float64\n",
      " 61  Attr62  7027 non-null   float64\n",
      " 62  Attr63  6997 non-null   float64\n",
      " 63  Attr64  6993 non-null   float64\n",
      " 64  class   7027 non-null   object \n",
      "dtypes: float64(64), object(1)\n",
      "memory usage: 3.5+ MB\n"
     ]
    }
   ],
   "source": [
    "df1.info()"
   ]
  },
  {
   "cell_type": "markdown",
   "metadata": {},
   "source": [
    "##### From the above output all the data types except `class` feature are `float64` and there are null values among features from `Attr1` to `Attr64`."
   ]
  },
  {
   "cell_type": "code",
   "execution_count": 4,
   "metadata": {},
   "outputs": [
    {
     "data": {
      "text/html": [
       "<div>\n",
       "<style scoped>\n",
       "    .dataframe tbody tr th:only-of-type {\n",
       "        vertical-align: middle;\n",
       "    }\n",
       "\n",
       "    .dataframe tbody tr th {\n",
       "        vertical-align: top;\n",
       "    }\n",
       "\n",
       "    .dataframe thead th {\n",
       "        text-align: right;\n",
       "    }\n",
       "</style>\n",
       "<table border=\"1\" class=\"dataframe\">\n",
       "  <thead>\n",
       "    <tr style=\"text-align: right;\">\n",
       "      <th></th>\n",
       "      <th>Attr1</th>\n",
       "      <th>Attr2</th>\n",
       "      <th>Attr3</th>\n",
       "      <th>Attr4</th>\n",
       "      <th>Attr5</th>\n",
       "      <th>Attr6</th>\n",
       "      <th>Attr7</th>\n",
       "      <th>Attr8</th>\n",
       "      <th>Attr9</th>\n",
       "      <th>Attr10</th>\n",
       "      <th>...</th>\n",
       "      <th>Attr55</th>\n",
       "      <th>Attr56</th>\n",
       "      <th>Attr57</th>\n",
       "      <th>Attr58</th>\n",
       "      <th>Attr59</th>\n",
       "      <th>Attr60</th>\n",
       "      <th>Attr61</th>\n",
       "      <th>Attr62</th>\n",
       "      <th>Attr63</th>\n",
       "      <th>Attr64</th>\n",
       "    </tr>\n",
       "  </thead>\n",
       "  <tbody>\n",
       "    <tr>\n",
       "      <th>count</th>\n",
       "      <td>7024.000000</td>\n",
       "      <td>7024.000000</td>\n",
       "      <td>7024.000000</td>\n",
       "      <td>6997.000000</td>\n",
       "      <td>7.019000e+03</td>\n",
       "      <td>7024.000000</td>\n",
       "      <td>7024.000000</td>\n",
       "      <td>7002.000000</td>\n",
       "      <td>7026.000000</td>\n",
       "      <td>7024.000000</td>\n",
       "      <td>...</td>\n",
       "      <td>7.027000e+03</td>\n",
       "      <td>7.027000e+03</td>\n",
       "      <td>7026.000000</td>\n",
       "      <td>7.027000e+03</td>\n",
       "      <td>7026.000000</td>\n",
       "      <td>6.892000e+03</td>\n",
       "      <td>7005.000000</td>\n",
       "      <td>7.027000e+03</td>\n",
       "      <td>6997.000000</td>\n",
       "      <td>6993.000000</td>\n",
       "    </tr>\n",
       "    <tr>\n",
       "      <th>mean</th>\n",
       "      <td>0.034660</td>\n",
       "      <td>0.560215</td>\n",
       "      <td>0.119969</td>\n",
       "      <td>2.629143</td>\n",
       "      <td>-2.631672e+02</td>\n",
       "      <td>0.059712</td>\n",
       "      <td>0.313876</td>\n",
       "      <td>2.623996</td>\n",
       "      <td>5.552855</td>\n",
       "      <td>1.825832</td>\n",
       "      <td>...</td>\n",
       "      <td>8.855693e+03</td>\n",
       "      <td>-1.577367e+02</td>\n",
       "      <td>0.193243</td>\n",
       "      <td>1.587409e+02</td>\n",
       "      <td>0.277829</td>\n",
       "      <td>4.328830e+02</td>\n",
       "      <td>15.642228</td>\n",
       "      <td>4.763202e+03</td>\n",
       "      <td>8.126852</td>\n",
       "      <td>208.731950</td>\n",
       "    </tr>\n",
       "    <tr>\n",
       "      <th>std</th>\n",
       "      <td>4.565504</td>\n",
       "      <td>5.350084</td>\n",
       "      <td>5.275459</td>\n",
       "      <td>13.257356</td>\n",
       "      <td>3.707460e+04</td>\n",
       "      <td>6.051113</td>\n",
       "      <td>8.353274</td>\n",
       "      <td>18.708327</td>\n",
       "      <td>101.995448</td>\n",
       "      <td>33.836452</td>\n",
       "      <td>...</td>\n",
       "      <td>7.247527e+04</td>\n",
       "      <td>1.322125e+04</td>\n",
       "      <td>4.344046</td>\n",
       "      <td>1.322124e+04</td>\n",
       "      <td>6.339149</td>\n",
       "      <td>2.612802e+04</td>\n",
       "      <td>261.554534</td>\n",
       "      <td>3.107835e+05</td>\n",
       "      <td>19.996419</td>\n",
       "      <td>5140.708804</td>\n",
       "    </tr>\n",
       "    <tr>\n",
       "      <th>min</th>\n",
       "      <td>-256.890000</td>\n",
       "      <td>-72.162000</td>\n",
       "      <td>-440.500000</td>\n",
       "      <td>0.000000</td>\n",
       "      <td>-2.722100e+06</td>\n",
       "      <td>-397.890000</td>\n",
       "      <td>-189.560000</td>\n",
       "      <td>-141.410000</td>\n",
       "      <td>0.000005</td>\n",
       "      <td>-440.550000</td>\n",
       "      <td>...</td>\n",
       "      <td>-8.004700e+05</td>\n",
       "      <td>-1.108300e+06</td>\n",
       "      <td>-315.370000</td>\n",
       "      <td>-4.194000e-03</td>\n",
       "      <td>-327.970000</td>\n",
       "      <td>4.700000e-05</td>\n",
       "      <td>0.000016</td>\n",
       "      <td>0.000000e+00</td>\n",
       "      <td>0.000015</td>\n",
       "      <td>0.000010</td>\n",
       "    </tr>\n",
       "    <tr>\n",
       "      <th>25%</th>\n",
       "      <td>0.021182</td>\n",
       "      <td>0.296678</td>\n",
       "      <td>0.026968</td>\n",
       "      <td>1.063100</td>\n",
       "      <td>-4.449800e+01</td>\n",
       "      <td>0.000000</td>\n",
       "      <td>0.028023</td>\n",
       "      <td>0.445710</td>\n",
       "      <td>1.037225</td>\n",
       "      <td>0.300785</td>\n",
       "      <td>...</td>\n",
       "      <td>9.712000e+01</td>\n",
       "      <td>2.031450e-02</td>\n",
       "      <td>0.056772</td>\n",
       "      <td>8.647650e-01</td>\n",
       "      <td>0.000000</td>\n",
       "      <td>5.923950e+00</td>\n",
       "      <td>4.829000</td>\n",
       "      <td>4.322250e+01</td>\n",
       "      <td>3.425400</td>\n",
       "      <td>2.538600</td>\n",
       "    </tr>\n",
       "    <tr>\n",
       "      <th>50%</th>\n",
       "      <td>0.075802</td>\n",
       "      <td>0.482960</td>\n",
       "      <td>0.181275</td>\n",
       "      <td>1.502000</td>\n",
       "      <td>-5.373900e+00</td>\n",
       "      <td>0.000000</td>\n",
       "      <td>0.090109</td>\n",
       "      <td>1.015100</td>\n",
       "      <td>1.205750</td>\n",
       "      <td>0.492235</td>\n",
       "      <td>...</td>\n",
       "      <td>1.604800e+03</td>\n",
       "      <td>6.338200e-02</td>\n",
       "      <td>0.175745</td>\n",
       "      <td>9.388100e-01</td>\n",
       "      <td>0.028438</td>\n",
       "      <td>1.004050e+01</td>\n",
       "      <td>7.033700</td>\n",
       "      <td>6.850900e+01</td>\n",
       "      <td>5.303200</td>\n",
       "      <td>4.637700</td>\n",
       "    </tr>\n",
       "    <tr>\n",
       "      <th>75%</th>\n",
       "      <td>0.160268</td>\n",
       "      <td>0.680233</td>\n",
       "      <td>0.362548</td>\n",
       "      <td>2.460700</td>\n",
       "      <td>3.777050e+01</td>\n",
       "      <td>0.146660</td>\n",
       "      <td>0.188667</td>\n",
       "      <td>2.267675</td>\n",
       "      <td>2.132975</td>\n",
       "      <td>0.675677</td>\n",
       "      <td>...</td>\n",
       "      <td>5.955900e+03</td>\n",
       "      <td>1.376950e-01</td>\n",
       "      <td>0.351922</td>\n",
       "      <td>9.820150e-01</td>\n",
       "      <td>0.273867</td>\n",
       "      <td>2.013900e+01</td>\n",
       "      <td>10.703000</td>\n",
       "      <td>1.063350e+02</td>\n",
       "      <td>8.357900</td>\n",
       "      <td>9.782200</td>\n",
       "    </tr>\n",
       "    <tr>\n",
       "      <th>max</th>\n",
       "      <td>94.280000</td>\n",
       "      <td>441.500000</td>\n",
       "      <td>1.000000</td>\n",
       "      <td>1017.800000</td>\n",
       "      <td>9.909000e+05</td>\n",
       "      <td>303.670000</td>\n",
       "      <td>453.770000</td>\n",
       "      <td>1452.200000</td>\n",
       "      <td>3876.100000</td>\n",
       "      <td>1099.500000</td>\n",
       "      <td>...</td>\n",
       "      <td>4.398400e+06</td>\n",
       "      <td>1.000000e+00</td>\n",
       "      <td>126.670000</td>\n",
       "      <td>1.108300e+06</td>\n",
       "      <td>119.580000</td>\n",
       "      <td>2.137800e+06</td>\n",
       "      <td>21110.000000</td>\n",
       "      <td>2.501600e+07</td>\n",
       "      <td>1042.200000</td>\n",
       "      <td>294770.000000</td>\n",
       "    </tr>\n",
       "  </tbody>\n",
       "</table>\n",
       "<p>8 rows × 64 columns</p>\n",
       "</div>"
      ],
      "text/plain": [
       "             Attr1        Attr2        Attr3        Attr4         Attr5  \\\n",
       "count  7024.000000  7024.000000  7024.000000  6997.000000  7.019000e+03   \n",
       "mean      0.034660     0.560215     0.119969     2.629143 -2.631672e+02   \n",
       "std       4.565504     5.350084     5.275459    13.257356  3.707460e+04   \n",
       "min    -256.890000   -72.162000  -440.500000     0.000000 -2.722100e+06   \n",
       "25%       0.021182     0.296678     0.026968     1.063100 -4.449800e+01   \n",
       "50%       0.075802     0.482960     0.181275     1.502000 -5.373900e+00   \n",
       "75%       0.160268     0.680233     0.362548     2.460700  3.777050e+01   \n",
       "max      94.280000   441.500000     1.000000  1017.800000  9.909000e+05   \n",
       "\n",
       "             Attr6        Attr7        Attr8        Attr9       Attr10  ...  \\\n",
       "count  7024.000000  7024.000000  7002.000000  7026.000000  7024.000000  ...   \n",
       "mean      0.059712     0.313876     2.623996     5.552855     1.825832  ...   \n",
       "std       6.051113     8.353274    18.708327   101.995448    33.836452  ...   \n",
       "min    -397.890000  -189.560000  -141.410000     0.000005  -440.550000  ...   \n",
       "25%       0.000000     0.028023     0.445710     1.037225     0.300785  ...   \n",
       "50%       0.000000     0.090109     1.015100     1.205750     0.492235  ...   \n",
       "75%       0.146660     0.188667     2.267675     2.132975     0.675677  ...   \n",
       "max     303.670000   453.770000  1452.200000  3876.100000  1099.500000  ...   \n",
       "\n",
       "             Attr55        Attr56       Attr57        Attr58       Attr59  \\\n",
       "count  7.027000e+03  7.027000e+03  7026.000000  7.027000e+03  7026.000000   \n",
       "mean   8.855693e+03 -1.577367e+02     0.193243  1.587409e+02     0.277829   \n",
       "std    7.247527e+04  1.322125e+04     4.344046  1.322124e+04     6.339149   \n",
       "min   -8.004700e+05 -1.108300e+06  -315.370000 -4.194000e-03  -327.970000   \n",
       "25%    9.712000e+01  2.031450e-02     0.056772  8.647650e-01     0.000000   \n",
       "50%    1.604800e+03  6.338200e-02     0.175745  9.388100e-01     0.028438   \n",
       "75%    5.955900e+03  1.376950e-01     0.351922  9.820150e-01     0.273867   \n",
       "max    4.398400e+06  1.000000e+00   126.670000  1.108300e+06   119.580000   \n",
       "\n",
       "             Attr60        Attr61        Attr62       Attr63         Attr64  \n",
       "count  6.892000e+03   7005.000000  7.027000e+03  6997.000000    6993.000000  \n",
       "mean   4.328830e+02     15.642228  4.763202e+03     8.126852     208.731950  \n",
       "std    2.612802e+04    261.554534  3.107835e+05    19.996419    5140.708804  \n",
       "min    4.700000e-05      0.000016  0.000000e+00     0.000015       0.000010  \n",
       "25%    5.923950e+00      4.829000  4.322250e+01     3.425400       2.538600  \n",
       "50%    1.004050e+01      7.033700  6.850900e+01     5.303200       4.637700  \n",
       "75%    2.013900e+01     10.703000  1.063350e+02     8.357900       9.782200  \n",
       "max    2.137800e+06  21110.000000  2.501600e+07  1042.200000  294770.000000  \n",
       "\n",
       "[8 rows x 64 columns]"
      ]
     },
     "execution_count": 4,
     "metadata": {},
     "output_type": "execute_result"
    }
   ],
   "source": [
    "df1.describe()"
   ]
  },
  {
   "cell_type": "code",
   "execution_count": 5,
   "metadata": {},
   "outputs": [
    {
     "data": {
      "text/html": [
       "<div>\n",
       "<style scoped>\n",
       "    .dataframe tbody tr th:only-of-type {\n",
       "        vertical-align: middle;\n",
       "    }\n",
       "\n",
       "    .dataframe tbody tr th {\n",
       "        vertical-align: top;\n",
       "    }\n",
       "\n",
       "    .dataframe thead th {\n",
       "        text-align: right;\n",
       "    }\n",
       "</style>\n",
       "<table border=\"1\" class=\"dataframe\">\n",
       "  <thead>\n",
       "    <tr style=\"text-align: right;\">\n",
       "      <th></th>\n",
       "      <th>Attr1</th>\n",
       "      <th>Attr2</th>\n",
       "      <th>Attr3</th>\n",
       "      <th>Attr4</th>\n",
       "      <th>Attr5</th>\n",
       "      <th>Attr6</th>\n",
       "      <th>Attr7</th>\n",
       "      <th>Attr8</th>\n",
       "      <th>Attr9</th>\n",
       "      <th>Attr10</th>\n",
       "      <th>...</th>\n",
       "      <th>Attr56</th>\n",
       "      <th>Attr57</th>\n",
       "      <th>Attr58</th>\n",
       "      <th>Attr59</th>\n",
       "      <th>Attr60</th>\n",
       "      <th>Attr61</th>\n",
       "      <th>Attr62</th>\n",
       "      <th>Attr63</th>\n",
       "      <th>Attr64</th>\n",
       "      <th>class</th>\n",
       "    </tr>\n",
       "  </thead>\n",
       "  <tbody>\n",
       "    <tr>\n",
       "      <th>0</th>\n",
       "      <td>0.200550</td>\n",
       "      <td>0.37951</td>\n",
       "      <td>0.39641</td>\n",
       "      <td>2.0472</td>\n",
       "      <td>32.3510</td>\n",
       "      <td>0.38825</td>\n",
       "      <td>0.249760</td>\n",
       "      <td>1.33050</td>\n",
       "      <td>1.1389</td>\n",
       "      <td>0.50494</td>\n",
       "      <td>...</td>\n",
       "      <td>0.121960</td>\n",
       "      <td>0.39718</td>\n",
       "      <td>0.87804</td>\n",
       "      <td>0.001924</td>\n",
       "      <td>8.4160</td>\n",
       "      <td>5.1372</td>\n",
       "      <td>82.658</td>\n",
       "      <td>4.4158</td>\n",
       "      <td>7.4277</td>\n",
       "      <td>b'0'</td>\n",
       "    </tr>\n",
       "    <tr>\n",
       "      <th>1</th>\n",
       "      <td>0.209120</td>\n",
       "      <td>0.49988</td>\n",
       "      <td>0.47225</td>\n",
       "      <td>1.9447</td>\n",
       "      <td>14.7860</td>\n",
       "      <td>0.00000</td>\n",
       "      <td>0.258340</td>\n",
       "      <td>0.99601</td>\n",
       "      <td>1.6996</td>\n",
       "      <td>0.49788</td>\n",
       "      <td>...</td>\n",
       "      <td>0.121300</td>\n",
       "      <td>0.42002</td>\n",
       "      <td>0.85300</td>\n",
       "      <td>0.000000</td>\n",
       "      <td>4.1486</td>\n",
       "      <td>3.2732</td>\n",
       "      <td>107.350</td>\n",
       "      <td>3.4000</td>\n",
       "      <td>60.9870</td>\n",
       "      <td>b'0'</td>\n",
       "    </tr>\n",
       "    <tr>\n",
       "      <th>2</th>\n",
       "      <td>0.248660</td>\n",
       "      <td>0.69592</td>\n",
       "      <td>0.26713</td>\n",
       "      <td>1.5548</td>\n",
       "      <td>-1.1523</td>\n",
       "      <td>0.00000</td>\n",
       "      <td>0.309060</td>\n",
       "      <td>0.43695</td>\n",
       "      <td>1.3090</td>\n",
       "      <td>0.30408</td>\n",
       "      <td>...</td>\n",
       "      <td>0.241140</td>\n",
       "      <td>0.81774</td>\n",
       "      <td>0.76599</td>\n",
       "      <td>0.694840</td>\n",
       "      <td>4.9909</td>\n",
       "      <td>3.9510</td>\n",
       "      <td>134.270</td>\n",
       "      <td>2.7185</td>\n",
       "      <td>5.2078</td>\n",
       "      <td>b'0'</td>\n",
       "    </tr>\n",
       "    <tr>\n",
       "      <th>3</th>\n",
       "      <td>0.081483</td>\n",
       "      <td>0.30734</td>\n",
       "      <td>0.45879</td>\n",
       "      <td>2.4928</td>\n",
       "      <td>51.9520</td>\n",
       "      <td>0.14988</td>\n",
       "      <td>0.092704</td>\n",
       "      <td>1.86610</td>\n",
       "      <td>1.0571</td>\n",
       "      <td>0.57353</td>\n",
       "      <td>...</td>\n",
       "      <td>0.054015</td>\n",
       "      <td>0.14207</td>\n",
       "      <td>0.94598</td>\n",
       "      <td>0.000000</td>\n",
       "      <td>4.5746</td>\n",
       "      <td>3.6147</td>\n",
       "      <td>86.435</td>\n",
       "      <td>4.2228</td>\n",
       "      <td>5.5497</td>\n",
       "      <td>b'0'</td>\n",
       "    </tr>\n",
       "    <tr>\n",
       "      <th>4</th>\n",
       "      <td>0.187320</td>\n",
       "      <td>0.61323</td>\n",
       "      <td>0.22960</td>\n",
       "      <td>1.4063</td>\n",
       "      <td>-7.3128</td>\n",
       "      <td>0.18732</td>\n",
       "      <td>0.187320</td>\n",
       "      <td>0.63070</td>\n",
       "      <td>1.1559</td>\n",
       "      <td>0.38677</td>\n",
       "      <td>...</td>\n",
       "      <td>0.134850</td>\n",
       "      <td>0.48431</td>\n",
       "      <td>0.86515</td>\n",
       "      <td>0.124440</td>\n",
       "      <td>6.3985</td>\n",
       "      <td>4.3158</td>\n",
       "      <td>127.210</td>\n",
       "      <td>2.8692</td>\n",
       "      <td>7.8980</td>\n",
       "      <td>b'0'</td>\n",
       "    </tr>\n",
       "  </tbody>\n",
       "</table>\n",
       "<p>5 rows × 65 columns</p>\n",
       "</div>"
      ],
      "text/plain": [
       "      Attr1    Attr2    Attr3   Attr4    Attr5    Attr6     Attr7    Attr8  \\\n",
       "0  0.200550  0.37951  0.39641  2.0472  32.3510  0.38825  0.249760  1.33050   \n",
       "1  0.209120  0.49988  0.47225  1.9447  14.7860  0.00000  0.258340  0.99601   \n",
       "2  0.248660  0.69592  0.26713  1.5548  -1.1523  0.00000  0.309060  0.43695   \n",
       "3  0.081483  0.30734  0.45879  2.4928  51.9520  0.14988  0.092704  1.86610   \n",
       "4  0.187320  0.61323  0.22960  1.4063  -7.3128  0.18732  0.187320  0.63070   \n",
       "\n",
       "    Attr9   Attr10  ...    Attr56   Attr57   Attr58    Attr59  Attr60  Attr61  \\\n",
       "0  1.1389  0.50494  ...  0.121960  0.39718  0.87804  0.001924  8.4160  5.1372   \n",
       "1  1.6996  0.49788  ...  0.121300  0.42002  0.85300  0.000000  4.1486  3.2732   \n",
       "2  1.3090  0.30408  ...  0.241140  0.81774  0.76599  0.694840  4.9909  3.9510   \n",
       "3  1.0571  0.57353  ...  0.054015  0.14207  0.94598  0.000000  4.5746  3.6147   \n",
       "4  1.1559  0.38677  ...  0.134850  0.48431  0.86515  0.124440  6.3985  4.3158   \n",
       "\n",
       "    Attr62  Attr63   Attr64  class  \n",
       "0   82.658  4.4158   7.4277   b'0'  \n",
       "1  107.350  3.4000  60.9870   b'0'  \n",
       "2  134.270  2.7185   5.2078   b'0'  \n",
       "3   86.435  4.2228   5.5497   b'0'  \n",
       "4  127.210  2.8692   7.8980   b'0'  \n",
       "\n",
       "[5 rows x 65 columns]"
      ]
     },
     "execution_count": 5,
     "metadata": {},
     "output_type": "execute_result"
    }
   ],
   "source": [
    "df1.head()"
   ]
  },
  {
   "cell_type": "markdown",
   "metadata": {},
   "source": [
    "# Merging DataFrame"
   ]
  },
  {
   "cell_type": "code",
   "execution_count": 6,
   "metadata": {},
   "outputs": [],
   "source": [
    "merged_data=pd.concat([df1,df2,df3,df4,df5]).reset_index()"
   ]
  },
  {
   "cell_type": "markdown",
   "metadata": {},
   "source": [
    "## `1.FIRST LETS HANDLE MISSING VALUES.`\n",
    "##### <span>First we will identify and visualize missing values from our dataset and  handle missing values in with various mechanisms. among those  methods we will use both `simple imputer and KNNimputer`.</span>"
   ]
  },
  {
   "cell_type": "markdown",
   "metadata": {},
   "source": [
    "# Build Function To See Columns That Has Missing values."
   ]
  },
  {
   "cell_type": "code",
   "execution_count": 7,
   "metadata": {},
   "outputs": [],
   "source": [
    "def missing_values_table(df):\n",
    "        # Total missing values\n",
    "        mis_val = df.isnull().sum()\n",
    "        \n",
    "        # Percentage of missing values\n",
    "        mis_val_percent = 100 * df.isnull().sum() / len(df)\n",
    "        \n",
    "        # Make a table with the results\n",
    "        mis_val_table = pd.concat([mis_val, mis_val_percent], axis=1)\n",
    "        \n",
    "        # Rename the columns\n",
    "        mis_val_table_ren_columns = mis_val_table.rename(\n",
    "        columns = {0 : 'Missing Values', 1 : '% of Total Values'})\n",
    "        \n",
    "        # Sort the table by percentage of missing descending\n",
    "        mis_val_table_ren_columns = mis_val_table_ren_columns[\n",
    "            mis_val_table_ren_columns.iloc[:,1] != 0].sort_values(\n",
    "        '% of Total Values', ascending=False).round(1)\n",
    "        \n",
    "        # Print some summary information\n",
    "        print (\"Your selected dataframe has \" + str(df.shape[1]) + \" columns.\\n\"      \n",
    "            \"There are \" + str(mis_val_table_ren_columns.shape[0]) +\n",
    "              \" columns that have missing values.\")\n",
    "        \n",
    "        # Return the dataframe with missing information\n",
    "        return mis_val_table_ren_columns"
   ]
  },
  {
   "cell_type": "markdown",
   "metadata": {},
   "source": [
    "### Observe Our Dataset Using Custom Function."
   ]
  },
  {
   "cell_type": "code",
   "execution_count": 8,
   "metadata": {},
   "outputs": [
    {
     "name": "stdout",
     "output_type": "stream",
     "text": [
      "Your selected dataframe has 66 columns.\n",
      "There are 64 columns that have missing values.\n"
     ]
    },
    {
     "data": {
      "text/html": [
       "<div>\n",
       "<style scoped>\n",
       "    .dataframe tbody tr th:only-of-type {\n",
       "        vertical-align: middle;\n",
       "    }\n",
       "\n",
       "    .dataframe tbody tr th {\n",
       "        vertical-align: top;\n",
       "    }\n",
       "\n",
       "    .dataframe thead th {\n",
       "        text-align: right;\n",
       "    }\n",
       "</style>\n",
       "<table border=\"1\" class=\"dataframe\">\n",
       "  <thead>\n",
       "    <tr style=\"text-align: right;\">\n",
       "      <th></th>\n",
       "      <th>Missing Values</th>\n",
       "      <th>% of Total Values</th>\n",
       "    </tr>\n",
       "  </thead>\n",
       "  <tbody>\n",
       "    <tr>\n",
       "      <th>Attr37</th>\n",
       "      <td>18984</td>\n",
       "      <td>43.7</td>\n",
       "    </tr>\n",
       "    <tr>\n",
       "      <th>Attr21</th>\n",
       "      <td>5854</td>\n",
       "      <td>13.5</td>\n",
       "    </tr>\n",
       "    <tr>\n",
       "      <th>Attr27</th>\n",
       "      <td>2764</td>\n",
       "      <td>6.4</td>\n",
       "    </tr>\n",
       "    <tr>\n",
       "      <th>Attr60</th>\n",
       "      <td>2152</td>\n",
       "      <td>5.0</td>\n",
       "    </tr>\n",
       "    <tr>\n",
       "      <th>Attr45</th>\n",
       "      <td>2147</td>\n",
       "      <td>4.9</td>\n",
       "    </tr>\n",
       "    <tr>\n",
       "      <th>Attr24</th>\n",
       "      <td>922</td>\n",
       "      <td>2.1</td>\n",
       "    </tr>\n",
       "    <tr>\n",
       "      <th>Attr28</th>\n",
       "      <td>812</td>\n",
       "      <td>1.9</td>\n",
       "    </tr>\n",
       "    <tr>\n",
       "      <th>Attr64</th>\n",
       "      <td>812</td>\n",
       "      <td>1.9</td>\n",
       "    </tr>\n",
       "    <tr>\n",
       "      <th>Attr53</th>\n",
       "      <td>812</td>\n",
       "      <td>1.9</td>\n",
       "    </tr>\n",
       "    <tr>\n",
       "      <th>Attr54</th>\n",
       "      <td>812</td>\n",
       "      <td>1.9</td>\n",
       "    </tr>\n",
       "  </tbody>\n",
       "</table>\n",
       "</div>"
      ],
      "text/plain": [
       "        Missing Values  % of Total Values\n",
       "Attr37           18984               43.7\n",
       "Attr21            5854               13.5\n",
       "Attr27            2764                6.4\n",
       "Attr60            2152                5.0\n",
       "Attr45            2147                4.9\n",
       "Attr24             922                2.1\n",
       "Attr28             812                1.9\n",
       "Attr64             812                1.9\n",
       "Attr53             812                1.9\n",
       "Attr54             812                1.9"
      ]
     },
     "execution_count": 8,
     "metadata": {},
     "output_type": "execute_result"
    }
   ],
   "source": [
    "miss_data=missing_values_table(merged_data)\n",
    "miss_data.head(10)\n",
    " "
   ]
  },
  {
   "cell_type": "markdown",
   "metadata": {},
   "source": [
    "# To Visualize Missing Values We will use `missingno` Library."
   ]
  },
  {
   "cell_type": "markdown",
   "metadata": {},
   "source": [
    "#### The below `msno` bar diagram there are 49 features (column) that has null values. Amonge those features `Attr21` and `Attr37` has large amount of  missing values. on the contrary,  other variables  has small amount of missing values . "
   ]
  },
  {
   "cell_type": "code",
   "execution_count": 9,
   "metadata": {},
   "outputs": [
    {
     "data": {
      "text/plain": [
       "<Axes: >"
      ]
     },
     "execution_count": 9,
     "metadata": {},
     "output_type": "execute_result"
    },
    {
     "data": {
      "image/png": "[encoded data removed]",
      "text/plain": [
       "<Figure size 2500x2050 with 3 Axes>"
      ]
     },
     "metadata": {},
     "output_type": "display_data"
    }
   ],
   "source": [
    "msno.bar(merged_data)"
   ]
  },
  {
   "cell_type": "markdown",
   "metadata": {},
   "source": [
    "##### As we can see from the below diagram the more a `bar` become dense the less the missing values and the more the `bar` become opaque the more missing values on the feature."
   ]
  },
  {
   "cell_type": "code",
   "execution_count": 10,
   "metadata": {},
   "outputs": [
    {
     "data": {
      "text/plain": [
       "<Axes: >"
      ]
     },
     "execution_count": 10,
     "metadata": {},
     "output_type": "execute_result"
    },
    {
     "data": {
      "image/png": "[encoded data removed]",
      "text/plain": [
       "<Figure size 2500x1000 with 2 Axes>"
      ]
     },
     "metadata": {},
     "output_type": "display_data"
    }
   ],
   "source": [
    "#df1 missing values\n",
    "msno.matrix(merged_data)"
   ]
  },
  {
   "cell_type": "markdown",
   "metadata": {},
   "source": [
    "#### In the dataset there are columns that have missing values so that to handle those missing values we will use some advanced mechanism called `KNNImputer`."
   ]
  },
  {
   "cell_type": "markdown",
   "metadata": {},
   "source": [
    "For columns `Attr21` and `Attr37` i will perform `KNNImputer` because those columns have large amount of null values."
   ]
  },
  {
   "cell_type": "code",
   "execution_count": 11,
   "metadata": {},
   "outputs": [],
   "source": [
    "def wrangle_data(data):\n",
    "  \n",
    "    \n",
    "    # treat missing values using KNN imputer.\n",
    "    KNNimp=KNNImputer(n_neighbors=10, weights=\"uniform\")\n",
    "    data[\"Attr21\"]=KNNimp.fit_transform(data[[\"Attr21\"]])\n",
    "    data[\"Attr37\"]=KNNimp.fit_transform(data[[\"Attr37\"]]) \n",
    "    data[\"Attr27\"]=KNNimp.fit_transform(data[[\"Attr27\"]])\n",
    "    data[\"Attr60\"]=KNNimp.fit_transform(data[[\"Attr60\"]])\n",
    "    \n",
    "    # impute missing values using simple imputer.\n",
    "    simple_imp=SimpleImputer(strategy=\"mean\")\n",
    "    data.iloc[:,:]=simple_imp.fit_transform(data) \n",
    "    \n",
    "    # handle outliers.\n",
    "    columns=data.columns\n",
    "    for col in columns[0:-1]:\n",
    "        data[col] = np.where(data[col] <data[col].quantile(0.15), data[col].quantile(0.15),data[col])\n",
    "        data[col] = np.where(data[col] >data[col].quantile(0.85), data[col].quantile(0.85),data[col])\n",
    "    \n",
    "    \n",
    "    # class transformation\n",
    "    data[\"class\"]=data[\"class\"].map({0.0:0,1.0:1})\n",
    "    data[\"class\"]=data[\"class\"].astype(\"category\")\n",
    "    \n",
    "    \n",
    "    return data\n"
   ]
  },
  {
   "cell_type": "markdown",
   "metadata": {},
   "source": [
    "# Wrangling Data Using Custom Function"
   ]
  },
  {
   "cell_type": "code",
   "execution_count": 12,
   "metadata": {},
   "outputs": [],
   "source": [
    "# data wrangling for data frame  \"merged_data\"\n",
    "data=wrangle_data(merged_data)"
   ]
  },
  {
   "cell_type": "markdown",
   "metadata": {},
   "source": [
    "Now we will use our custom function to test our dataset if there is null values or not. for sure we will not find one."
   ]
  },
  {
   "cell_type": "code",
   "execution_count": 13,
   "metadata": {},
   "outputs": [
    {
     "name": "stdout",
     "output_type": "stream",
     "text": [
      "Your selected dataframe has 66 columns.\n",
      "There are 0 columns that have missing values.\n"
     ]
    },
    {
     "data": {
      "text/html": [
       "<div>\n",
       "<style scoped>\n",
       "    .dataframe tbody tr th:only-of-type {\n",
       "        vertical-align: middle;\n",
       "    }\n",
       "\n",
       "    .dataframe tbody tr th {\n",
       "        vertical-align: top;\n",
       "    }\n",
       "\n",
       "    .dataframe thead th {\n",
       "        text-align: right;\n",
       "    }\n",
       "</style>\n",
       "<table border=\"1\" class=\"dataframe\">\n",
       "  <thead>\n",
       "    <tr style=\"text-align: right;\">\n",
       "      <th></th>\n",
       "      <th>Missing Values</th>\n",
       "      <th>% of Total Values</th>\n",
       "    </tr>\n",
       "  </thead>\n",
       "  <tbody>\n",
       "  </tbody>\n",
       "</table>\n",
       "</div>"
      ],
      "text/plain": [
       "Empty DataFrame\n",
       "Columns: [Missing Values, % of Total Values]\n",
       "Index: []"
      ]
     },
     "execution_count": 13,
     "metadata": {},
     "output_type": "execute_result"
    }
   ],
   "source": [
    "missing_values_table(data)"
   ]
  },
  {
   "cell_type": "markdown",
   "metadata": {},
   "source": [
    "# <b>`2.PERFORM EXPLORATORY DATA ANALYSIS (EDA).`</b>"
   ]
  },
  {
   "cell_type": "code",
   "execution_count": 14,
   "metadata": {},
   "outputs": [
    {
     "data": {
      "application/vnd.plotly.v1+json": {
       "config": {
        "plotlyServerURL": "https://plot.ly"
       },
       "data": [
        {
         "alignmentgroup": "True",
         "hovertemplate": "variable=class<br>index=%{x}<br>value=%{y}<extra></extra>",
         "legendgroup": "class",
         "marker": {
          "color": "#4C78A8",
          "pattern": {
           "shape": ""
          }
         },
         "name": "class",
         "offsetgroup": "class",
         "orientation": "v",
         "showlegend": true,
         "textposition": "auto",
         "texttemplate": "%{y}",
         "type": "bar",
         "x": [
          0,
          1
         ],
         "xaxis": "x",
         "y": [
          41314,
          2091
         ],
         "yaxis": "y"
        }
       ],
       "layout": {
        "barmode": "relative",
        "legend": {
         "title": {
          "text": "variable"
         },
         "tracegroupgap": 0
        },
        "template": {
         "data": {
          "bar": [
           {
            "error_x": {
             "color": "#2a3f5f"
            },
            "error_y": {
             "color": "#2a3f5f"
            },
            "marker": {
             "line": {
              "color": "#E5ECF6",
              "width": 0.5
             },
             "pattern": {
              "fillmode": "overlay",
              "size": 10,
              "solidity": 0.2
             }
            },
            "type": "bar"
           }
          ],
          "barpolar": [
           {
            "marker": {
             "line": {
              "color": "#E5ECF6",
              "width": 0.5
             },
             "pattern": {
              "fillmode": "overlay",
              "size": 10,
              "solidity": 0.2
             }
            },
            "type": "barpolar"
           }
          ],
          "carpet": [
           {
            "aaxis": {
             "endlinecolor": "#2a3f5f",
             "gridcolor": "white",
             "linecolor": "white",
             "minorgridcolor": "white",
             "startlinecolor": "#2a3f5f"
            },
            "baxis": {
             "endlinecolor": "#2a3f5f",
             "gridcolor": "white",
             "linecolor": "white",
             "minorgridcolor": "white",
             "startlinecolor": "#2a3f5f"
            },
            "type": "carpet"
           }
          ],
          "choropleth": [
           {
            "colorbar": {
             "outlinewidth": 0,
             "ticks": ""
            },
            "type": "choropleth"
           }
          ],
          "contour": [
           {
            "colorbar": {
             "outlinewidth": 0,
             "ticks": ""
            },
            "colorscale": [
             [
              0,
              "#0d0887"
             ],
             [
              0.1111111111111111,
              "#46039f"
             ],
             [
              0.2222222222222222,
              "#7201a8"
             ],
             [
              0.3333333333333333,
              "#9c179e"
             ],
             [
              0.4444444444444444,
              "#bd3786"
             ],
             [
              0.5555555555555556,
              "#d8576b"
             ],
             [
              0.6666666666666666,
              "#ed7953"
             ],
             [
              0.7777777777777778,
              "#fb9f3a"
             ],
             [
              0.8888888888888888,
              "#fdca26"
             ],
             [
              1,
              "#f0f921"
             ]
            ],
            "type": "contour"
           }
          ],
          "contourcarpet": [
           {
            "colorbar": {
             "outlinewidth": 0,
             "ticks": ""
            },
            "type": "contourcarpet"
           }
          ],
          "heatmap": [
           {
            "colorbar": {
             "outlinewidth": 0,
             "ticks": ""
            },
            "colorscale": [
             [
              0,
              "#0d0887"
             ],
             [
              0.1111111111111111,
              "#46039f"
             ],
             [
              0.2222222222222222,
              "#7201a8"
             ],
             [
              0.3333333333333333,
              "#9c179e"
             ],
             [
              0.4444444444444444,
              "#bd3786"
             ],
             [
              0.5555555555555556,
              "#d8576b"
             ],
             [
              0.6666666666666666,
              "#ed7953"
             ],
             [
              0.7777777777777778,
              "#fb9f3a"
             ],
             [
              0.8888888888888888,
              "#fdca26"
             ],
             [
              1,
              "#f0f921"
             ]
            ],
            "type": "heatmap"
           }
          ],
          "heatmapgl": [
           {
            "colorbar": {
             "outlinewidth": 0,
             "ticks": ""
            },
            "colorscale": [
             [
              0,
              "#0d0887"
             ],
             [
              0.1111111111111111,
              "#46039f"
             ],
             [
              0.2222222222222222,
              "#7201a8"
             ],
             [
              0.3333333333333333,
              "#9c179e"
             ],
             [
              0.4444444444444444,
              "#bd3786"
             ],
             [
              0.5555555555555556,
              "#d8576b"
             ],
             [
              0.6666666666666666,
              "#ed7953"
             ],
             [
              0.7777777777777778,
              "#fb9f3a"
             ],
             [
              0.8888888888888888,
              "#fdca26"
             ],
             [
              1,
              "#f0f921"
             ]
            ],
            "type": "heatmapgl"
           }
          ],
          "histogram": [
           {
            "marker": {
             "pattern": {
              "fillmode": "overlay",
              "size": 10,
              "solidity": 0.2
             }
            },
            "type": "histogram"
           }
          ],
          "histogram2d": [
           {
            "colorbar": {
             "outlinewidth": 0,
             "ticks": ""
            },
            "colorscale": [
             [
              0,
              "#0d0887"
             ],
             [
              0.1111111111111111,
              "#46039f"
             ],
             [
              0.2222222222222222,
              "#7201a8"
             ],
             [
              0.3333333333333333,
              "#9c179e"
             ],
             [
              0.4444444444444444,
              "#bd3786"
             ],
             [
              0.5555555555555556,
              "#d8576b"
             ],
             [
              0.6666666666666666,
              "#ed7953"
             ],
             [
              0.7777777777777778,
              "#fb9f3a"
             ],
             [
              0.8888888888888888,
              "#fdca26"
             ],
             [
              1,
              "#f0f921"
             ]
            ],
            "type": "histogram2d"
           }
          ],
          "histogram2dcontour": [
           {
            "colorbar": {
             "outlinewidth": 0,
             "ticks": ""
            },
            "colorscale": [
             [
              0,
              "#0d0887"
             ],
             [
              0.1111111111111111,
              "#46039f"
             ],
             [
              0.2222222222222222,
              "#7201a8"
             ],
             [
              0.3333333333333333,
              "#9c179e"
             ],
             [
              0.4444444444444444,
              "#bd3786"
             ],
             [
              0.5555555555555556,
              "#d8576b"
             ],
             [
              0.6666666666666666,
              "#ed7953"
             ],
             [
              0.7777777777777778,
              "#fb9f3a"
             ],
             [
              0.8888888888888888,
              "#fdca26"
             ],
             [
              1,
              "#f0f921"
             ]
            ],
            "type": "histogram2dcontour"
           }
          ],
          "mesh3d": [
           {
            "colorbar": {
             "outlinewidth": 0,
             "ticks": ""
            },
            "type": "mesh3d"
           }
          ],
          "parcoords": [
           {
            "line": {
             "colorbar": {
              "outlinewidth": 0,
              "ticks": ""
             }
            },
            "type": "parcoords"
           }
          ],
          "pie": [
           {
            "automargin": true,
            "type": "pie"
           }
          ],
          "scatter": [
           {
            "fillpattern": {
             "fillmode": "overlay",
             "size": 10,
             "solidity": 0.2
            },
            "type": "scatter"
           }
          ],
          "scatter3d": [
           {
            "line": {
             "colorbar": {
              "outlinewidth": 0,
              "ticks": ""
             }
            },
            "marker": {
             "colorbar": {
              "outlinewidth": 0,
              "ticks": ""
             }
            },
            "type": "scatter3d"
           }
          ],
          "scattercarpet": [
           {
            "marker": {
             "colorbar": {
              "outlinewidth": 0,
              "ticks": ""
             }
            },
            "type": "scattercarpet"
           }
          ],
          "scattergeo": [
           {
            "marker": {
             "colorbar": {
              "outlinewidth": 0,
              "ticks": ""
             }
            },
            "type": "scattergeo"
           }
          ],
          "scattergl": [
           {
            "marker": {
             "colorbar": {
              "outlinewidth": 0,
              "ticks": ""
             }
            },
            "type": "scattergl"
           }
          ],
          "scattermapbox": [
           {
            "marker": {
             "colorbar": {
              "outlinewidth": 0,
              "ticks": ""
             }
            },
            "type": "scattermapbox"
           }
          ],
          "scatterpolar": [
           {
            "marker": {
             "colorbar": {
              "outlinewidth": 0,
              "ticks": ""
             }
            },
            "type": "scatterpolar"
           }
          ],
          "scatterpolargl": [
           {
            "marker": {
             "colorbar": {
              "outlinewidth": 0,
              "ticks": ""
             }
            },
            "type": "scatterpolargl"
           }
          ],
          "scatterternary": [
           {
            "marker": {
             "colorbar": {
              "outlinewidth": 0,
              "ticks": ""
             }
            },
            "type": "scatterternary"
           }
          ],
          "surface": [
           {
            "colorbar": {
             "outlinewidth": 0,
             "ticks": ""
            },
            "colorscale": [
             [
              0,
              "#0d0887"
             ],
             [
              0.1111111111111111,
              "#46039f"
             ],
             [
              0.2222222222222222,
              "#7201a8"
             ],
             [
              0.3333333333333333,
              "#9c179e"
             ],
             [
              0.4444444444444444,
              "#bd3786"
             ],
             [
              0.5555555555555556,
              "#d8576b"
             ],
             [
              0.6666666666666666,
              "#ed7953"
             ],
             [
              0.7777777777777778,
              "#fb9f3a"
             ],
             [
              0.8888888888888888,
              "#fdca26"
             ],
             [
              1,
              "#f0f921"
             ]
            ],
            "type": "surface"
           }
          ],
          "table": [
           {
            "cells": {
             "fill": {
              "color": "#EBF0F8"
             },
             "line": {
              "color": "white"
             }
            },
            "header": {
             "fill": {
              "color": "#C8D4E3"
             },
             "line": {
              "color": "white"
             }
            },
            "type": "table"
           }
          ]
         },
         "layout": {
          "annotationdefaults": {
           "arrowcolor": "#2a3f5f",
           "arrowhead": 0,
           "arrowwidth": 1
          },
          "autotypenumbers": "strict",
          "coloraxis": {
           "colorbar": {
            "outlinewidth": 0,
            "ticks": ""
           }
          },
          "colorscale": {
           "diverging": [
            [
             0,
             "#8e0152"
            ],
            [
             0.1,
             "#c51b7d"
            ],
            [
             0.2,
             "#de77ae"
            ],
            [
             0.3,
             "#f1b6da"
            ],
            [
             0.4,
             "#fde0ef"
            ],
            [
             0.5,
             "#f7f7f7"
            ],
            [
             0.6,
             "#e6f5d0"
            ],
            [
             0.7,
             "#b8e186"
            ],
            [
             0.8,
             "#7fbc41"
            ],
            [
             0.9,
             "#4d9221"
            ],
            [
             1,
             "#276419"
            ]
           ],
           "sequential": [
            [
             0,
             "#0d0887"
            ],
            [
             0.1111111111111111,
             "#46039f"
            ],
            [
             0.2222222222222222,
             "#7201a8"
            ],
            [
             0.3333333333333333,
             "#9c179e"
            ],
            [
             0.4444444444444444,
             "#bd3786"
            ],
            [
             0.5555555555555556,
             "#d8576b"
            ],
            [
             0.6666666666666666,
             "#ed7953"
            ],
            [
             0.7777777777777778,
             "#fb9f3a"
            ],
            [
             0.8888888888888888,
             "#fdca26"
            ],
            [
             1,
             "#f0f921"
            ]
           ],
           "sequentialminus": [
            [
             0,
             "#0d0887"
            ],
            [
             0.1111111111111111,
             "#46039f"
            ],
            [
             0.2222222222222222,
             "#7201a8"
            ],
            [
             0.3333333333333333,
             "#9c179e"
            ],
            [
             0.4444444444444444,
             "#bd3786"
            ],
            [
             0.5555555555555556,
             "#d8576b"
            ],
            [
             0.6666666666666666,
             "#ed7953"
            ],
            [
             0.7777777777777778,
             "#fb9f3a"
            ],
            [
             0.8888888888888888,
             "#fdca26"
            ],
            [
             1,
             "#f0f921"
            ]
           ]
          },
          "colorway": [
           "#636efa",
           "#EF553B",
           "#00cc96",
           "#ab63fa",
           "#FFA15A",
           "#19d3f3",
           "#FF6692",
           "#B6E880",
           "#FF97FF",
           "#FECB52"
          ],
          "font": {
           "color": "#2a3f5f"
          },
          "geo": {
           "bgcolor": "white",
           "lakecolor": "white",
           "landcolor": "#E5ECF6",
           "showlakes": true,
           "showland": true,
           "subunitcolor": "white"
          },
          "hoverlabel": {
           "align": "left"
          },
          "hovermode": "closest",
          "mapbox": {
           "style": "light"
          },
          "paper_bgcolor": "white",
          "plot_bgcolor": "#E5ECF6",
          "polar": {
           "angularaxis": {
            "gridcolor": "white",
            "linecolor": "white",
            "ticks": ""
           },
           "bgcolor": "#E5ECF6",
           "radialaxis": {
            "gridcolor": "white",
            "linecolor": "white",
            "ticks": ""
           }
          },
          "scene": {
           "xaxis": {
            "backgroundcolor": "#E5ECF6",
            "gridcolor": "white",
            "gridwidth": 2,
            "linecolor": "white",
            "showbackground": true,
            "ticks": "",
            "zerolinecolor": "white"
           },
           "yaxis": {
            "backgroundcolor": "#E5ECF6",
            "gridcolor": "white",
            "gridwidth": 2,
            "linecolor": "white",
            "showbackground": true,
            "ticks": "",
            "zerolinecolor": "white"
           },
           "zaxis": {
            "backgroundcolor": "#E5ECF6",
            "gridcolor": "white",
            "gridwidth": 2,
            "linecolor": "white",
            "showbackground": true,
            "ticks": "",
            "zerolinecolor": "white"
           }
          },
          "shapedefaults": {
           "line": {
            "color": "#2a3f5f"
           }
          },
          "ternary": {
           "aaxis": {
            "gridcolor": "white",
            "linecolor": "white",
            "ticks": ""
           },
           "baxis": {
            "gridcolor": "white",
            "linecolor": "white",
            "ticks": ""
           },
           "bgcolor": "#E5ECF6",
           "caxis": {
            "gridcolor": "white",
            "linecolor": "white",
            "ticks": ""
           }
          },
          "title": {
           "x": 0.05
          },
          "xaxis": {
           "automargin": true,
           "gridcolor": "white",
           "linecolor": "white",
           "ticks": "",
           "title": {
            "standoff": 15
           },
           "zerolinecolor": "white",
           "zerolinewidth": 2
          },
          "yaxis": {
           "automargin": true,
           "gridcolor": "white",
           "linecolor": "white",
           "ticks": "",
           "title": {
            "standoff": 15
           },
           "zerolinecolor": "white",
           "zerolinewidth": 2
          }
         }
        },
        "title": {
         "text": "Class Distribution For [ Bunkrupt (1) ] Or [ Not Bankrupt (0) ]."
        },
        "xaxis": {
         "anchor": "y",
         "domain": [
          0,
          1
         ],
         "title": {
          "text": "Class [ Bankrupt (1) ] And [ Not Bankrupt (0) ] ."
         }
        },
        "yaxis": {
         "anchor": "x",
         "domain": [
          0,
          1
         ],
         "title": {
          "text": "COUNT ."
         }
        }
       }
      }
     },
     "metadata": {},
     "output_type": "display_data"
    }
   ],
   "source": [
    "# copy_df1[\"class\"].value_counts().plot(kind=\"bar\")\n",
    "fig=px.bar(\n",
    "    data[\"class\"].value_counts(),\n",
    "    text_auto=True,\n",
    "    color_discrete_sequence=px.colors.qualitative.T10,\n",
    "    title=\"Class Distribution For [ Bunkrupt (1) ] Or [ Not Bankrupt (0) ].\"\n",
    "    )\n",
    "fig.update_layout(xaxis_title=\"Class [ Bankrupt (1) ] And [ Not Bankrupt (0) ] .\",yaxis_title=\"COUNT .\")\n",
    "fig.show()"
   ]
  },
  {
   "cell_type": "markdown",
   "metadata": {},
   "source": [
    "#### From the above chart there is class imbalance between bankrupt and non bankrupt.companies that are not going to be bunkrupt are 6756 and companies that are going to be bankrupt are 271 so that we will use class balancing mechanisms in order to build our classification model."
   ]
  },
  {
   "cell_type": "code",
   "execution_count": 61,
   "metadata": {},
   "outputs": [],
   "source": [
    "def distribution_plot(df):\n",
    "    \n",
    "    for col in df.columns:\n",
    "        if df[col].dtype != \"object\":\n",
    "            sns.boxplot(df[col])\n",
    "            plt.title(f\"{col} distribution\")\n",
    "            plt.show()\n",
    " \n",
    "            "
   ]
  },
  {
   "cell_type": "code",
   "execution_count": 15,
   "metadata": {},
   "outputs": [
    {
     "data": {
      "text/html": [
       "<div>\n",
       "<style scoped>\n",
       "    .dataframe tbody tr th:only-of-type {\n",
       "        vertical-align: middle;\n",
       "    }\n",
       "\n",
       "    .dataframe tbody tr th {\n",
       "        vertical-align: top;\n",
       "    }\n",
       "\n",
       "    .dataframe thead th {\n",
       "        text-align: right;\n",
       "    }\n",
       "</style>\n",
       "<table border=\"1\" class=\"dataframe\">\n",
       "  <thead>\n",
       "    <tr style=\"text-align: right;\">\n",
       "      <th></th>\n",
       "      <th>index</th>\n",
       "      <th>Attr1</th>\n",
       "      <th>Attr2</th>\n",
       "      <th>Attr3</th>\n",
       "      <th>Attr4</th>\n",
       "      <th>Attr5</th>\n",
       "      <th>Attr6</th>\n",
       "      <th>Attr7</th>\n",
       "      <th>Attr8</th>\n",
       "      <th>Attr9</th>\n",
       "      <th>...</th>\n",
       "      <th>Attr55</th>\n",
       "      <th>Attr56</th>\n",
       "      <th>Attr57</th>\n",
       "      <th>Attr58</th>\n",
       "      <th>Attr59</th>\n",
       "      <th>Attr60</th>\n",
       "      <th>Attr61</th>\n",
       "      <th>Attr62</th>\n",
       "      <th>Attr63</th>\n",
       "      <th>Attr64</th>\n",
       "    </tr>\n",
       "  </thead>\n",
       "  <tbody>\n",
       "    <tr>\n",
       "      <th>count</th>\n",
       "      <td>43405.000000</td>\n",
       "      <td>43405.000000</td>\n",
       "      <td>43405.000000</td>\n",
       "      <td>43405.000000</td>\n",
       "      <td>43405.000000</td>\n",
       "      <td>43405.000000</td>\n",
       "      <td>43405.000000</td>\n",
       "      <td>43405.000000</td>\n",
       "      <td>43405.000000</td>\n",
       "      <td>43405.000000</td>\n",
       "      <td>...</td>\n",
       "      <td>43405.000000</td>\n",
       "      <td>43405.000000</td>\n",
       "      <td>43405.000000</td>\n",
       "      <td>43405.000000</td>\n",
       "      <td>43405.000000</td>\n",
       "      <td>43405.000000</td>\n",
       "      <td>43405.000000</td>\n",
       "      <td>43405.000000</td>\n",
       "      <td>43405.000000</td>\n",
       "      <td>43405.000000</td>\n",
       "    </tr>\n",
       "    <tr>\n",
       "      <th>mean</th>\n",
       "      <td>4470.058196</td>\n",
       "      <td>0.064229</td>\n",
       "      <td>0.480462</td>\n",
       "      <td>0.212364</td>\n",
       "      <td>2.031196</td>\n",
       "      <td>0.780655</td>\n",
       "      <td>0.041833</td>\n",
       "      <td>0.076644</td>\n",
       "      <td>1.678490</td>\n",
       "      <td>1.540669</td>\n",
       "      <td>...</td>\n",
       "      <td>2894.273616</td>\n",
       "      <td>0.070766</td>\n",
       "      <td>0.153799</td>\n",
       "      <td>0.932194</td>\n",
       "      <td>0.136996</td>\n",
       "      <td>17.386693</td>\n",
       "      <td>7.723525</td>\n",
       "      <td>82.111692</td>\n",
       "      <td>6.049672</td>\n",
       "      <td>7.446894</td>\n",
       "    </tr>\n",
       "    <tr>\n",
       "      <th>std</th>\n",
       "      <td>2394.178333</td>\n",
       "      <td>0.077762</td>\n",
       "      <td>0.222302</td>\n",
       "      <td>0.210667</td>\n",
       "      <td>1.180470</td>\n",
       "      <td>62.799803</td>\n",
       "      <td>0.093387</td>\n",
       "      <td>0.088582</td>\n",
       "      <td>1.495720</td>\n",
       "      <td>0.641226</td>\n",
       "      <td>...</td>\n",
       "      <td>3748.689246</td>\n",
       "      <td>0.073973</td>\n",
       "      <td>0.160668</td>\n",
       "      <td>0.072418</td>\n",
       "      <td>0.196382</td>\n",
       "      <td>15.287600</td>\n",
       "      <td>3.684829</td>\n",
       "      <td>44.092003</td>\n",
       "      <td>3.316647</td>\n",
       "      <td>6.802420</td>\n",
       "    </tr>\n",
       "    <tr>\n",
       "      <th>min</th>\n",
       "      <td>1302.000000</td>\n",
       "      <td>-0.039382</td>\n",
       "      <td>0.179614</td>\n",
       "      <td>-0.074099</td>\n",
       "      <td>0.846154</td>\n",
       "      <td>-90.833600</td>\n",
       "      <td>-0.058540</td>\n",
       "      <td>-0.039615</td>\n",
       "      <td>0.237484</td>\n",
       "      <td>0.947226</td>\n",
       "      <td>...</td>\n",
       "      <td>-430.294000</td>\n",
       "      <td>-0.019231</td>\n",
       "      <td>-0.045705</td>\n",
       "      <td>0.810170</td>\n",
       "      <td>0.000000</td>\n",
       "      <td>4.256400</td>\n",
       "      <td>3.628460</td>\n",
       "      <td>30.795600</td>\n",
       "      <td>2.349300</td>\n",
       "      <td>1.526880</td>\n",
       "    </tr>\n",
       "    <tr>\n",
       "      <th>25%</th>\n",
       "      <td>2170.000000</td>\n",
       "      <td>0.003434</td>\n",
       "      <td>0.269010</td>\n",
       "      <td>0.021540</td>\n",
       "      <td>1.050800</td>\n",
       "      <td>-49.490000</td>\n",
       "      <td>0.000000</td>\n",
       "      <td>0.005783</td>\n",
       "      <td>0.431070</td>\n",
       "      <td>1.018500</td>\n",
       "      <td>...</td>\n",
       "      <td>27.573000</td>\n",
       "      <td>0.008959</td>\n",
       "      <td>0.014632</td>\n",
       "      <td>0.875540</td>\n",
       "      <td>0.000000</td>\n",
       "      <td>5.729400</td>\n",
       "      <td>4.515600</td>\n",
       "      <td>42.205000</td>\n",
       "      <td>3.100200</td>\n",
       "      <td>2.207800</td>\n",
       "    </tr>\n",
       "    <tr>\n",
       "      <th>50%</th>\n",
       "      <td>4340.000000</td>\n",
       "      <td>0.049636</td>\n",
       "      <td>0.471940</td>\n",
       "      <td>0.196580</td>\n",
       "      <td>1.574000</td>\n",
       "      <td>-1.184000</td>\n",
       "      <td>0.000000</td>\n",
       "      <td>0.059653</td>\n",
       "      <td>1.074100</td>\n",
       "      <td>1.195500</td>\n",
       "      <td>...</td>\n",
       "      <td>1088.400000</td>\n",
       "      <td>0.052701</td>\n",
       "      <td>0.119650</td>\n",
       "      <td>0.951120</td>\n",
       "      <td>0.006389</td>\n",
       "      <td>10.400000</td>\n",
       "      <td>6.649500</td>\n",
       "      <td>71.535000</td>\n",
       "      <td>5.102900</td>\n",
       "      <td>4.389200</td>\n",
       "    </tr>\n",
       "    <tr>\n",
       "      <th>75%</th>\n",
       "      <td>6660.000000</td>\n",
       "      <td>0.129560</td>\n",
       "      <td>0.688270</td>\n",
       "      <td>0.403260</td>\n",
       "      <td>2.806000</td>\n",
       "      <td>50.461000</td>\n",
       "      <td>0.089441</td>\n",
       "      <td>0.150810</td>\n",
       "      <td>2.639100</td>\n",
       "      <td>2.063000</td>\n",
       "      <td>...</td>\n",
       "      <td>4993.700000</td>\n",
       "      <td>0.128780</td>\n",
       "      <td>0.284570</td>\n",
       "      <td>0.992800</td>\n",
       "      <td>0.236280</td>\n",
       "      <td>23.890000</td>\n",
       "      <td>10.443000</td>\n",
       "      <td>117.740000</td>\n",
       "      <td>8.650900</td>\n",
       "      <td>10.461000</td>\n",
       "    </tr>\n",
       "    <tr>\n",
       "      <th>max</th>\n",
       "      <td>7985.000000</td>\n",
       "      <td>0.188128</td>\n",
       "      <td>0.798948</td>\n",
       "      <td>0.523100</td>\n",
       "      <td>4.178180</td>\n",
       "      <td>95.957000</td>\n",
       "      <td>0.219358</td>\n",
       "      <td>0.218238</td>\n",
       "      <td>4.423520</td>\n",
       "      <td>2.671940</td>\n",
       "      <td>...</td>\n",
       "      <td>10035.400000</td>\n",
       "      <td>0.194714</td>\n",
       "      <td>0.417476</td>\n",
       "      <td>1.019000</td>\n",
       "      <td>0.519762</td>\n",
       "      <td>47.583400</td>\n",
       "      <td>14.117400</td>\n",
       "      <td>155.400000</td>\n",
       "      <td>11.705800</td>\n",
       "      <td>20.752200</td>\n",
       "    </tr>\n",
       "  </tbody>\n",
       "</table>\n",
       "<p>8 rows × 65 columns</p>\n",
       "</div>"
      ],
      "text/plain": [
       "              index         Attr1         Attr2         Attr3         Attr4  \\\n",
       "count  43405.000000  43405.000000  43405.000000  43405.000000  43405.000000   \n",
       "mean    4470.058196      0.064229      0.480462      0.212364      2.031196   \n",
       "std     2394.178333      0.077762      0.222302      0.210667      1.180470   \n",
       "min     1302.000000     -0.039382      0.179614     -0.074099      0.846154   \n",
       "25%     2170.000000      0.003434      0.269010      0.021540      1.050800   \n",
       "50%     4340.000000      0.049636      0.471940      0.196580      1.574000   \n",
       "75%     6660.000000      0.129560      0.688270      0.403260      2.806000   \n",
       "max     7985.000000      0.188128      0.798948      0.523100      4.178180   \n",
       "\n",
       "              Attr5         Attr6         Attr7         Attr8         Attr9  \\\n",
       "count  43405.000000  43405.000000  43405.000000  43405.000000  43405.000000   \n",
       "mean       0.780655      0.041833      0.076644      1.678490      1.540669   \n",
       "std       62.799803      0.093387      0.088582      1.495720      0.641226   \n",
       "min      -90.833600     -0.058540     -0.039615      0.237484      0.947226   \n",
       "25%      -49.490000      0.000000      0.005783      0.431070      1.018500   \n",
       "50%       -1.184000      0.000000      0.059653      1.074100      1.195500   \n",
       "75%       50.461000      0.089441      0.150810      2.639100      2.063000   \n",
       "max       95.957000      0.219358      0.218238      4.423520      2.671940   \n",
       "\n",
       "       ...        Attr55        Attr56        Attr57        Attr58  \\\n",
       "count  ...  43405.000000  43405.000000  43405.000000  43405.000000   \n",
       "mean   ...   2894.273616      0.070766      0.153799      0.932194   \n",
       "std    ...   3748.689246      0.073973      0.160668      0.072418   \n",
       "min    ...   -430.294000     -0.019231     -0.045705      0.810170   \n",
       "25%    ...     27.573000      0.008959      0.014632      0.875540   \n",
       "50%    ...   1088.400000      0.052701      0.119650      0.951120   \n",
       "75%    ...   4993.700000      0.128780      0.284570      0.992800   \n",
       "max    ...  10035.400000      0.194714      0.417476      1.019000   \n",
       "\n",
       "             Attr59        Attr60        Attr61        Attr62        Attr63  \\\n",
       "count  43405.000000  43405.000000  43405.000000  43405.000000  43405.000000   \n",
       "mean       0.136996     17.386693      7.723525     82.111692      6.049672   \n",
       "std        0.196382     15.287600      3.684829     44.092003      3.316647   \n",
       "min        0.000000      4.256400      3.628460     30.795600      2.349300   \n",
       "25%        0.000000      5.729400      4.515600     42.205000      3.100200   \n",
       "50%        0.006389     10.400000      6.649500     71.535000      5.102900   \n",
       "75%        0.236280     23.890000     10.443000    117.740000      8.650900   \n",
       "max        0.519762     47.583400     14.117400    155.400000     11.705800   \n",
       "\n",
       "             Attr64  \n",
       "count  43405.000000  \n",
       "mean       7.446894  \n",
       "std        6.802420  \n",
       "min        1.526880  \n",
       "25%        2.207800  \n",
       "50%        4.389200  \n",
       "75%       10.461000  \n",
       "max       20.752200  \n",
       "\n",
       "[8 rows x 65 columns]"
      ]
     },
     "execution_count": 15,
     "metadata": {},
     "output_type": "execute_result"
    }
   ],
   "source": [
    "data.describe()"
   ]
  },
  {
   "cell_type": "markdown",
   "metadata": {},
   "source": [
    "## skewness test inorder to observe and detect outliers. it is an additional technique to see outliers with boxplot."
   ]
  },
  {
   "cell_type": "code",
   "execution_count": 16,
   "metadata": {},
   "outputs": [],
   "source": [
    "def check_skewness(data):\n",
    "    column=list(data.columns)\n",
    "    for col in column[:-1]:\n",
    "        print(f\"The skewness of feature {col}:\",data[col].skew())"
   ]
  },
  {
   "cell_type": "code",
   "execution_count": 17,
   "metadata": {},
   "outputs": [
    {
     "name": "stdout",
     "output_type": "stream",
     "text": [
      "The skewness of feature index: 0.12761595928848174\n",
      "The skewness of feature Attr1: 0.3101335657474239\n",
      "The skewness of feature Attr2: 0.07111756935621415\n",
      "The skewness of feature Attr3: 0.12394759418245926\n",
      "The skewness of feature Attr4: 0.8046062783495053\n",
      "The skewness of feature Attr5: 0.06192214329767662\n",
      "The skewness of feature Attr6: 0.9963120024839757\n",
      "The skewness of feature Attr7: 0.328869776454809\n",
      "The skewness of feature Attr8: 0.8497448687754864\n",
      "The skewness of feature Attr9: 0.783091483784233\n",
      "The skewness of feature Attr10: -0.04551856154969336\n",
      "The skewness of feature Attr11: 0.340955571766543\n",
      "The skewness of feature Attr12: 0.7875909778203346\n",
      "The skewness of feature Attr13: 0.38629851886701905\n",
      "The skewness of feature Attr14: 0.3286240520215456\n",
      "The skewness of feature Attr15: 0.7482334534627876\n",
      "The skewness of feature Attr16: 0.8460055159628324\n",
      "The skewness of feature Attr17: 0.8497603967659609\n",
      "The skewness of feature Attr18: 0.3288883145644223\n",
      "The skewness of feature Attr19: 0.30872116727492077\n",
      "The skewness of feature Attr20: 0.422292337207526\n",
      "The skewness of feature Attr21: 1.256571716917139\n",
      "The skewness of feature Attr22: 0.47678732743891766\n",
      "The skewness of feature Attr23: 0.29547444713698434\n",
      "The skewness of feature Attr24: 0.31095602101040265\n",
      "The skewness of feature Attr25: -0.02393293090047195\n",
      "The skewness of feature Attr26: 0.8420437896088692\n",
      "The skewness of feature Attr27: 1.4967350440547993\n",
      "The skewness of feature Attr28: 0.9865473431913998\n",
      "The skewness of feature Attr29: 0.01319885610197755\n",
      "The skewness of feature Attr30: 0.4216121957204286\n",
      "The skewness of feature Attr31: 0.33428804314399013\n",
      "The skewness of feature Attr32: 0.5120726400954718\n",
      "The skewness of feature Attr33: 0.5543765224638191\n",
      "The skewness of feature Attr34: 0.584412047720231\n",
      "The skewness of feature Attr35: 0.4182061672324022\n",
      "The skewness of feature Attr36: 0.37252803955665703\n",
      "The skewness of feature Attr37: -0.006056436338334962\n",
      "The skewness of feature Attr38: -0.21135605096890764\n",
      "The skewness of feature Attr39: 0.4072875018313108\n",
      "The skewness of feature Attr40: 1.0155475686602242\n",
      "The skewness of feature Attr41: 0.7938695794079215\n",
      "The skewness of feature Attr42: 0.45867617317929776\n",
      "The skewness of feature Attr43: 0.2908040005716329\n",
      "The skewness of feature Attr44: 0.3204936424023121\n",
      "The skewness of feature Attr45: 1.042035030479396\n",
      "The skewness of feature Attr46: 0.7989679585260304\n",
      "The skewness of feature Attr47: 0.4510060342647979\n",
      "The skewness of feature Attr48: 0.2383681978643885\n",
      "The skewness of feature Attr49: -0.011159270241231778\n",
      "The skewness of feature Attr50: 0.7889735148433019\n",
      "The skewness of feature Attr51: 0.27146537023078665\n",
      "The skewness of feature Attr52: 0.5095699446754292\n",
      "The skewness of feature Attr53: 0.8688306206603017\n",
      "The skewness of feature Attr54: 0.9674677820838281\n",
      "The skewness of feature Attr55: 0.9995111129882206\n",
      "The skewness of feature Attr56: 0.48571195023739855\n",
      "The skewness of feature Attr57: 0.4257957209952493\n",
      "The skewness of feature Attr58: -0.5126095898867273\n",
      "The skewness of feature Attr59: 1.129993468522698\n",
      "The skewness of feature Attr60: 1.100982962133504\n",
      "The skewness of feature Attr61: 0.6148196480886879\n",
      "The skewness of feature Attr62: 0.48103786782526703\n",
      "The skewness of feature Attr63: 0.5729750634565047\n",
      "The skewness of feature Attr64: 1.0729303111341335\n"
     ]
    }
   ],
   "source": [
    "check_skewness(data)"
   ]
  },
  {
   "cell_type": "markdown",
   "metadata": {},
   "source": [
    "# <b>`MODEL BUILDING`</b>"
   ]
  },
  {
   "cell_type": "markdown",
   "metadata": {},
   "source": [
    "### Below Are Classification Models With Their Prospective Parametrs To Perform Training And Prediction."
   ]
  },
  {
   "cell_type": "code",
   "execution_count": 18,
   "metadata": {},
   "outputs": [],
   "source": [
    "algorithms={\n",
    "        'logistics_regression':{\n",
    "            'model':LogisticRegression(),\n",
    "            'params':{\n",
    "                'penalty':['l1','l2','elasticnet',None]\n",
    "            }\n",
    "        },\n",
    "        'Decision_tree':{\n",
    "            'model':DecisionTreeClassifier(),\n",
    "            'params':{\n",
    "                'criterion':[\"gini\",'entropy','log_loss'],\n",
    "                'splitter':['best','random'],\n",
    "                'max_depth':list(range(0,20,3))\n",
    "            }\n",
    "        },\n",
    "        'random_forest':{\n",
    "            'model':RandomForestClassifier(),\n",
    "            'params':{\n",
    "                'n_estimators':[1,5,10,20,50],\n",
    "                'criterion':['gini','entropy','log_loss']\n",
    "            }\n",
    "        },\n",
    "        'svm':{\n",
    "            'model':SVC(),\n",
    "            'params':{}\n",
    "        },\n",
    "        'knn':{\n",
    "            'model':KNeighborsClassifier(),\n",
    "            'params':{\n",
    "                'n_neighbors':[3,4,5,6,7,8,9,10],\n",
    "                'algorithm':['auto','ball_tree','kd_tree','brute']\n",
    "            }\n",
    "        },\n",
    "        'gradient_boosting_classifier':{\n",
    "            'model':GradientBoostingClassifier(),\n",
    "            'params':{\n",
    "                'n_estimators':[1,5,10,20,50,100],\n",
    "                'loss':['log_loss','deviance','exponential']\n",
    "            }\n",
    "        }\n",
    "        \n",
    "         \n",
    "         \n",
    "    }"
   ]
  },
  {
   "cell_type": "markdown",
   "metadata": {},
   "source": [
    "## Splitting The Dataset in to X and y, Standardize The Datapoints and Tackle The Class imbalance in \"Class\" Feature."
   ]
  },
  {
   "cell_type": "code",
   "execution_count": 19,
   "metadata": {},
   "outputs": [],
   "source": [
    "# splitting the data to  'X' and 'y'.\n",
    "X=data.drop(\"class\",axis=1)\n",
    "y=data[\"class\"]\n",
    "\n",
    "X_train,X_test,y_train,y_test=train_test_split(X,y,test_size=0.3,stratify=y,random_state=42)\n",
    "\n",
    "# Standardize the data.\n",
    "standard=StandardScaler()\n",
    "X_train=standard.fit_transform(X_train)\n",
    "X_test=standard.fit_transform(X_test)\n",
    "\n",
    "# Fixing  class imbalance using 'Random Over Sampler'.\n",
    "rus=RandomOverSampler()\n",
    "X_train,y_train=rus.fit_resample(X_train,y_train)\n",
    "\n"
   ]
  },
  {
   "cell_type": "markdown",
   "metadata": {},
   "source": [
    "## Using RandomizedSearchCV ,Find The Best Model To Predict With Their Best Parametes And Best Accuracy Scores."
   ]
  },
  {
   "cell_type": "code",
   "execution_count": null,
   "metadata": {},
   "outputs": [],
   "source": [
    "scores =list()\n",
    "cv=KFold(n_splits=5,shuffle=True,random_state=42)\n",
    "for algorithm_name,model_params in algorithms.items():\n",
    "    model=RandomizedSearchCV(model_params[\"model\"],model_params[\"params\"],n_iter=15,cv=cv)\n",
    "    model.fit(X_train,y_train)\n",
    "    scores.append(\n",
    "        \n",
    "        {\n",
    "            \"algorithm\":algorithm_name,\n",
    "            \"Best_Score\":model.best_score_,\n",
    "            \"Best_parameter\": model.best_params_\n",
    "        }\n",
    "    )"
   ]
  },
  {
   "cell_type": "markdown",
   "metadata": {},
   "source": [
    "## Below Are Algorithms With Their `Best Score` And `Best Parameters`."
   ]
  },
  {
   "cell_type": "markdown",
   "metadata": {},
   "source": [
    "#### From The Below Data Frame `Random Forest` Has The Best Score  `0.997044` and `{'criterion': 'gini', 'n_estimators': 50}` parameters. So I Will Proceed With Random Forest."
   ]
  },
  {
   "cell_type": "code",
   "execution_count": null,
   "metadata": {},
   "outputs": [
    {
     "data": {
      "text/html": [
       "<div>\n",
       "<style scoped>\n",
       "    .dataframe tbody tr th:only-of-type {\n",
       "        vertical-align: middle;\n",
       "    }\n",
       "\n",
       "    .dataframe tbody tr th {\n",
       "        vertical-align: top;\n",
       "    }\n",
       "\n",
       "    .dataframe thead th {\n",
       "        text-align: right;\n",
       "    }\n",
       "</style>\n",
       "<table border=\"1\" class=\"dataframe\">\n",
       "  <thead>\n",
       "    <tr style=\"text-align: right;\">\n",
       "      <th></th>\n",
       "      <th>algorithm</th>\n",
       "      <th>Best_Score</th>\n",
       "      <th>Best_parameter</th>\n",
       "    </tr>\n",
       "  </thead>\n",
       "  <tbody>\n",
       "    <tr>\n",
       "      <th>0</th>\n",
       "      <td>logistics_regression</td>\n",
       "      <td>0.885369</td>\n",
       "      <td>{'penalty': 'l2'}</td>\n",
       "    </tr>\n",
       "    <tr>\n",
       "      <th>1</th>\n",
       "      <td>Decision_tree</td>\n",
       "      <td>0.985615</td>\n",
       "      <td>{'splitter': 'best', 'max_depth': 18, 'criteri...</td>\n",
       "    </tr>\n",
       "    <tr>\n",
       "      <th>2</th>\n",
       "      <td>random_forest</td>\n",
       "      <td>0.997597</td>\n",
       "      <td>{'n_estimators': 50, 'criterion': 'gini'}</td>\n",
       "    </tr>\n",
       "    <tr>\n",
       "      <th>3</th>\n",
       "      <td>svm</td>\n",
       "      <td>0.964625</td>\n",
       "      <td>{}</td>\n",
       "    </tr>\n",
       "    <tr>\n",
       "      <th>4</th>\n",
       "      <td>knn</td>\n",
       "      <td>0.977454</td>\n",
       "      <td>{'n_neighbors': 3, 'algorithm': 'auto'}</td>\n",
       "    </tr>\n",
       "    <tr>\n",
       "      <th>5</th>\n",
       "      <td>gradient_boosting_classifier</td>\n",
       "      <td>0.957277</td>\n",
       "      <td>{'n_estimators': 100, 'loss': 'deviance'}</td>\n",
       "    </tr>\n",
       "  </tbody>\n",
       "</table>\n",
       "</div>"
      ],
      "text/plain": [
       "                      algorithm  Best_Score  \\\n",
       "0          logistics_regression    0.885369   \n",
       "1                 Decision_tree    0.985615   \n",
       "2                 random_forest    0.997597   \n",
       "3                           svm    0.964625   \n",
       "4                           knn    0.977454   \n",
       "5  gradient_boosting_classifier    0.957277   \n",
       "\n",
       "                                      Best_parameter  \n",
       "0                                  {'penalty': 'l2'}  \n",
       "1  {'splitter': 'best', 'max_depth': 18, 'criteri...  \n",
       "2          {'n_estimators': 50, 'criterion': 'gini'}  \n",
       "3                                                 {}  \n",
       "4            {'n_neighbors': 3, 'algorithm': 'auto'}  \n",
       "5          {'n_estimators': 100, 'loss': 'deviance'}  "
      ]
     },
     "execution_count": 21,
     "metadata": {},
     "output_type": "execute_result"
    }
   ],
   "source": [
    "score=pd.DataFrame(scores)\n",
    "score"
   ]
  },
  {
   "cell_type": "markdown",
   "metadata": {},
   "source": [
    "## `Training Our Model Using RandomForest.`"
   ]
  },
  {
   "cell_type": "code",
   "execution_count": 20,
   "metadata": {},
   "outputs": [
    {
     "data": {
      "text/html": [
       "<style>#sk-container-id-1 {color: black;background-color: white;}#sk-container-id-1 pre{padding: 0;}#sk-container-id-1 div.sk-toggleable {background-color: white;}#sk-container-id-1 label.sk-toggleable__label {cursor: pointer;display: block;width: 100%;margin-bottom: 0;padding: 0.3em;box-sizing: border-box;text-align: center;}#sk-container-id-1 label.sk-toggleable__label-arrow:before {content: \"▸\";float: left;margin-right: 0.25em;color: #696969;}#sk-container-id-1 label.sk-toggleable__label-arrow:hover:before {color: black;}#sk-container-id-1 div.sk-estimator:hover label.sk-toggleable__label-arrow:before {color: black;}#sk-container-id-1 div.sk-toggleable__content {max-height: 0;max-width: 0;overflow: hidden;text-align: left;background-color: #f0f8ff;}#sk-container-id-1 div.sk-toggleable__content pre {margin: 0.2em;color: black;border-radius: 0.25em;background-color: #f0f8ff;}#sk-container-id-1 input.sk-toggleable__control:checked~div.sk-toggleable__content {max-height: 200px;max-width: 100%;overflow: auto;}#sk-container-id-1 input.sk-toggleable__control:checked~label.sk-toggleable__label-arrow:before {content: \"▾\";}#sk-container-id-1 div.sk-estimator input.sk-toggleable__control:checked~label.sk-toggleable__label {background-color: #d4ebff;}#sk-container-id-1 div.sk-label input.sk-toggleable__control:checked~label.sk-toggleable__label {background-color: #d4ebff;}#sk-container-id-1 input.sk-hidden--visually {border: 0;clip: rect(1px 1px 1px 1px);clip: rect(1px, 1px, 1px, 1px);height: 1px;margin: -1px;overflow: hidden;padding: 0;position: absolute;width: 1px;}#sk-container-id-1 div.sk-estimator {font-family: monospace;background-color: #f0f8ff;border: 1px dotted black;border-radius: 0.25em;box-sizing: border-box;margin-bottom: 0.5em;}#sk-container-id-1 div.sk-estimator:hover {background-color: #d4ebff;}#sk-container-id-1 div.sk-parallel-item::after {content: \"\";width: 100%;border-bottom: 1px solid gray;flex-grow: 1;}#sk-container-id-1 div.sk-label:hover label.sk-toggleable__label {background-color: #d4ebff;}#sk-container-id-1 div.sk-serial::before {content: \"\";position: absolute;border-left: 1px solid gray;box-sizing: border-box;top: 0;bottom: 0;left: 50%;z-index: 0;}#sk-container-id-1 div.sk-serial {display: flex;flex-direction: column;align-items: center;background-color: white;padding-right: 0.2em;padding-left: 0.2em;position: relative;}#sk-container-id-1 div.sk-item {position: relative;z-index: 1;}#sk-container-id-1 div.sk-parallel {display: flex;align-items: stretch;justify-content: center;background-color: white;position: relative;}#sk-container-id-1 div.sk-item::before, #sk-container-id-1 div.sk-parallel-item::before {content: \"\";position: absolute;border-left: 1px solid gray;box-sizing: border-box;top: 0;bottom: 0;left: 50%;z-index: -1;}#sk-container-id-1 div.sk-parallel-item {display: flex;flex-direction: column;z-index: 1;position: relative;background-color: white;}#sk-container-id-1 div.sk-parallel-item:first-child::after {align-self: flex-end;width: 50%;}#sk-container-id-1 div.sk-parallel-item:last-child::after {align-self: flex-start;width: 50%;}#sk-container-id-1 div.sk-parallel-item:only-child::after {width: 0;}#sk-container-id-1 div.sk-dashed-wrapped {border: 1px dashed gray;margin: 0 0.4em 0.5em 0.4em;box-sizing: border-box;padding-bottom: 0.4em;background-color: white;}#sk-container-id-1 div.sk-label label {font-family: monospace;font-weight: bold;display: inline-block;line-height: 1.2em;}#sk-container-id-1 div.sk-label-container {text-align: center;}#sk-container-id-1 div.sk-container {/* jupyter's `normalize.less` sets `[hidden] { display: none; }` but bootstrap.min.css set `[hidden] { display: none !important; }` so we also need the `!important` here to be able to override the default hidden behavior on the sphinx rendered scikit-learn.org. See: https://github.com/scikit-learn/scikit-learn/issues/21755 */display: inline-block !important;position: relative;}#sk-container-id-1 div.sk-text-repr-fallback {display: none;}</style><div id=\"sk-container-id-1\" class=\"sk-top-container\"><div class=\"sk-text-repr-fallback\"><pre>RandomForestClassifier(n_estimators=50)</pre><b>In a Jupyter environment, please rerun this cell to show the HTML representation or trust the notebook. <br />On GitHub, the HTML representation is unable to render, please try loading this page with nbviewer.org.</b></div><div class=\"sk-container\" hidden><div class=\"sk-item\"><div class=\"sk-estimator sk-toggleable\"><input class=\"sk-toggleable__control sk-hidden--visually\" id=\"sk-estimator-id-1\" type=\"checkbox\" checked><label for=\"sk-estimator-id-1\" class=\"sk-toggleable__label sk-toggleable__label-arrow\">RandomForestClassifier</label><div class=\"sk-toggleable__content\"><pre>RandomForestClassifier(n_estimators=50)</pre></div></div></div></div></div>"
      ],
      "text/plain": [
       "RandomForestClassifier(n_estimators=50)"
      ]
     },
     "execution_count": 20,
     "metadata": {},
     "output_type": "execute_result"
    }
   ],
   "source": [
    "model=RandomForestClassifier(criterion=\"gini\",n_estimators=50)\n",
    "model.fit(X_train,y_train)"
   ]
  },
  {
   "cell_type": "markdown",
   "metadata": {},
   "source": [
    "# `Predict Output Using Our Model.`"
   ]
  },
  {
   "cell_type": "code",
   "execution_count": 21,
   "metadata": {},
   "outputs": [],
   "source": [
    "prediction=model.predict(X_test) "
   ]
  },
  {
   "cell_type": "code",
   "execution_count": 22,
   "metadata": {},
   "outputs": [
    {
     "data": {
      "text/plain": [
       "1.0"
      ]
     },
     "execution_count": 22,
     "metadata": {},
     "output_type": "execute_result"
    }
   ],
   "source": [
    "rf_pred=model.predict(X_train)\n",
    "accuracy_score(y_train,rf_pred)"
   ]
  },
  {
   "cell_type": "code",
   "execution_count": 23,
   "metadata": {},
   "outputs": [
    {
     "name": "stdout",
     "output_type": "stream",
     "text": [
      "0.9678236829980034\n"
     ]
    }
   ],
   "source": [
    "acc=accuracy_score(y_test,prediction)\n",
    "print(acc)"
   ]
  },
  {
   "cell_type": "markdown",
   "metadata": {},
   "source": [
    "# `Check The Model Performance And Accuracy Using Classification Report.`"
   ]
  },
  {
   "cell_type": "code",
   "execution_count": 24,
   "metadata": {},
   "outputs": [
    {
     "name": "stdout",
     "output_type": "stream",
     "text": [
      "              precision    recall  f1-score   support\n",
      "\n",
      "           0       0.97      1.00      0.98     12395\n",
      "           1       0.90      0.37      0.53       627\n",
      "\n",
      "    accuracy                           0.97     13022\n",
      "   macro avg       0.94      0.68      0.75     13022\n",
      "weighted avg       0.97      0.97      0.96     13022\n",
      "\n"
     ]
    }
   ],
   "source": [
    "print(classification_report(y_test,prediction))"
   ]
  },
  {
   "cell_type": "code",
   "execution_count": 25,
   "metadata": {},
   "outputs": [
    {
     "name": "stdout",
     "output_type": "stream",
     "text": [
      "[[12370   394]\n",
      " [   25   233]]\n"
     ]
    },
    {
     "data": {
      "text/plain": [
       "<Axes: >"
      ]
     },
     "execution_count": 25,
     "metadata": {},
     "output_type": "execute_result"
    },
    {
     "data": {
      "image/png": "[encoded data removed]",
      "text/plain": [
       "<Figure size 640x480 with 2 Axes>"
      ]
     },
     "metadata": {},
     "output_type": "display_data"
    }
   ],
   "source": [
    "print(confusion_matrix(prediction,y_test))\n",
    "sns.heatmap(confusion_matrix(prediction,y_test),annot=True)"
   ]
  },
  {
   "cell_type": "code",
   "execution_count": 26,
   "metadata": {},
   "outputs": [
    {
     "data": {
      "text/html": [
       "<style>#sk-container-id-2 {color: black;background-color: white;}#sk-container-id-2 pre{padding: 0;}#sk-container-id-2 div.sk-toggleable {background-color: white;}#sk-container-id-2 label.sk-toggleable__label {cursor: pointer;display: block;width: 100%;margin-bottom: 0;padding: 0.3em;box-sizing: border-box;text-align: center;}#sk-container-id-2 label.sk-toggleable__label-arrow:before {content: \"▸\";float: left;margin-right: 0.25em;color: #696969;}#sk-container-id-2 label.sk-toggleable__label-arrow:hover:before {color: black;}#sk-container-id-2 div.sk-estimator:hover label.sk-toggleable__label-arrow:before {color: black;}#sk-container-id-2 div.sk-toggleable__content {max-height: 0;max-width: 0;overflow: hidden;text-align: left;background-color: #f0f8ff;}#sk-container-id-2 div.sk-toggleable__content pre {margin: 0.2em;color: black;border-radius: 0.25em;background-color: #f0f8ff;}#sk-container-id-2 input.sk-toggleable__control:checked~div.sk-toggleable__content {max-height: 200px;max-width: 100%;overflow: auto;}#sk-container-id-2 input.sk-toggleable__control:checked~label.sk-toggleable__label-arrow:before {content: \"▾\";}#sk-container-id-2 div.sk-estimator input.sk-toggleable__control:checked~label.sk-toggleable__label {background-color: #d4ebff;}#sk-container-id-2 div.sk-label input.sk-toggleable__control:checked~label.sk-toggleable__label {background-color: #d4ebff;}#sk-container-id-2 input.sk-hidden--visually {border: 0;clip: rect(1px 1px 1px 1px);clip: rect(1px, 1px, 1px, 1px);height: 1px;margin: -1px;overflow: hidden;padding: 0;position: absolute;width: 1px;}#sk-container-id-2 div.sk-estimator {font-family: monospace;background-color: #f0f8ff;border: 1px dotted black;border-radius: 0.25em;box-sizing: border-box;margin-bottom: 0.5em;}#sk-container-id-2 div.sk-estimator:hover {background-color: #d4ebff;}#sk-container-id-2 div.sk-parallel-item::after {content: \"\";width: 100%;border-bottom: 1px solid gray;flex-grow: 1;}#sk-container-id-2 div.sk-label:hover label.sk-toggleable__label {background-color: #d4ebff;}#sk-container-id-2 div.sk-serial::before {content: \"\";position: absolute;border-left: 1px solid gray;box-sizing: border-box;top: 0;bottom: 0;left: 50%;z-index: 0;}#sk-container-id-2 div.sk-serial {display: flex;flex-direction: column;align-items: center;background-color: white;padding-right: 0.2em;padding-left: 0.2em;position: relative;}#sk-container-id-2 div.sk-item {position: relative;z-index: 1;}#sk-container-id-2 div.sk-parallel {display: flex;align-items: stretch;justify-content: center;background-color: white;position: relative;}#sk-container-id-2 div.sk-item::before, #sk-container-id-2 div.sk-parallel-item::before {content: \"\";position: absolute;border-left: 1px solid gray;box-sizing: border-box;top: 0;bottom: 0;left: 50%;z-index: -1;}#sk-container-id-2 div.sk-parallel-item {display: flex;flex-direction: column;z-index: 1;position: relative;background-color: white;}#sk-container-id-2 div.sk-parallel-item:first-child::after {align-self: flex-end;width: 50%;}#sk-container-id-2 div.sk-parallel-item:last-child::after {align-self: flex-start;width: 50%;}#sk-container-id-2 div.sk-parallel-item:only-child::after {width: 0;}#sk-container-id-2 div.sk-dashed-wrapped {border: 1px dashed gray;margin: 0 0.4em 0.5em 0.4em;box-sizing: border-box;padding-bottom: 0.4em;background-color: white;}#sk-container-id-2 div.sk-label label {font-family: monospace;font-weight: bold;display: inline-block;line-height: 1.2em;}#sk-container-id-2 div.sk-label-container {text-align: center;}#sk-container-id-2 div.sk-container {/* jupyter's `normalize.less` sets `[hidden] { display: none; }` but bootstrap.min.css set `[hidden] { display: none !important; }` so we also need the `!important` here to be able to override the default hidden behavior on the sphinx rendered scikit-learn.org. See: https://github.com/scikit-learn/scikit-learn/issues/21755 */display: inline-block !important;position: relative;}#sk-container-id-2 div.sk-text-repr-fallback {display: none;}</style><div id=\"sk-container-id-2\" class=\"sk-top-container\"><div class=\"sk-text-repr-fallback\"><pre>AdaBoostClassifier(learning_rate=0.7, n_estimators=100, random_state=42)</pre><b>In a Jupyter environment, please rerun this cell to show the HTML representation or trust the notebook. <br />On GitHub, the HTML representation is unable to render, please try loading this page with nbviewer.org.</b></div><div class=\"sk-container\" hidden><div class=\"sk-item\"><div class=\"sk-estimator sk-toggleable\"><input class=\"sk-toggleable__control sk-hidden--visually\" id=\"sk-estimator-id-2\" type=\"checkbox\" checked><label for=\"sk-estimator-id-2\" class=\"sk-toggleable__label sk-toggleable__label-arrow\">AdaBoostClassifier</label><div class=\"sk-toggleable__content\"><pre>AdaBoostClassifier(learning_rate=0.7, n_estimators=100, random_state=42)</pre></div></div></div></div></div>"
      ],
      "text/plain": [
       "AdaBoostClassifier(learning_rate=0.7, n_estimators=100, random_state=42)"
      ]
     },
     "execution_count": 26,
     "metadata": {},
     "output_type": "execute_result"
    }
   ],
   "source": [
    "ad_bo=AdaBoostClassifier(n_estimators=100,learning_rate=0.7,random_state=42)\n",
    "ad_bo.fit(X_train,y_train)"
   ]
  },
  {
   "cell_type": "code",
   "execution_count": 27,
   "metadata": {},
   "outputs": [
    {
     "name": "stdout",
     "output_type": "stream",
     "text": [
      "0.902088772845953\n",
      "0.9333137383726962\n"
     ]
    }
   ],
   "source": [
    "pred=ad_bo.predict(X_test)\n",
    "t_pred=ad_bo.predict(X_train)\n",
    "print(accuracy_score(y_test,pred))\n",
    "print(accuracy_score(y_train,t_pred))\n"
   ]
  },
  {
   "cell_type": "markdown",
   "metadata": {},
   "source": [
    "# Voting Classifier"
   ]
  },
  {
   "cell_type": "markdown",
   "metadata": {},
   "source": [
    "### Below are each models with their best score and estimators resulted from the above RandomizedSearchCV result, we will build VotingClassifier model using those classification algorithms."
   ]
  },
  {
   "cell_type": "code",
   "execution_count": 28,
   "metadata": {},
   "outputs": [],
   "source": [
    "Lr=LogisticRegression(penalty=\"l2\")\n",
    "dt=DecisionTreeClassifier(splitter='best',max_depth=18,criterion=\"entropy\")\n",
    "rf=RandomForestClassifier(n_estimators=50,criterion=\"gini\")\n",
    "svm=SVC()\n",
    "knn=KNeighborsClassifier(n_neighbors=3,algorithm='brute')\n",
    "gra_bo=GradientBoostingClassifier(n_estimators=100,loss=\"log_loss\")"
   ]
  },
  {
   "cell_type": "markdown",
   "metadata": {},
   "source": [
    "# Lets build voting Classifier in order to obtain even better accuracy score."
   ]
  },
  {
   "cell_type": "code",
   "execution_count": 29,
   "metadata": {},
   "outputs": [
    {
     "data": {
      "text/html": [
       "<style>#sk-container-id-3 {color: black;background-color: white;}#sk-container-id-3 pre{padding: 0;}#sk-container-id-3 div.sk-toggleable {background-color: white;}#sk-container-id-3 label.sk-toggleable__label {cursor: pointer;display: block;width: 100%;margin-bottom: 0;padding: 0.3em;box-sizing: border-box;text-align: center;}#sk-container-id-3 label.sk-toggleable__label-arrow:before {content: \"▸\";float: left;margin-right: 0.25em;color: #696969;}#sk-container-id-3 label.sk-toggleable__label-arrow:hover:before {color: black;}#sk-container-id-3 div.sk-estimator:hover label.sk-toggleable__label-arrow:before {color: black;}#sk-container-id-3 div.sk-toggleable__content {max-height: 0;max-width: 0;overflow: hidden;text-align: left;background-color: #f0f8ff;}#sk-container-id-3 div.sk-toggleable__content pre {margin: 0.2em;color: black;border-radius: 0.25em;background-color: #f0f8ff;}#sk-container-id-3 input.sk-toggleable__control:checked~div.sk-toggleable__content {max-height: 200px;max-width: 100%;overflow: auto;}#sk-container-id-3 input.sk-toggleable__control:checked~label.sk-toggleable__label-arrow:before {content: \"▾\";}#sk-container-id-3 div.sk-estimator input.sk-toggleable__control:checked~label.sk-toggleable__label {background-color: #d4ebff;}#sk-container-id-3 div.sk-label input.sk-toggleable__control:checked~label.sk-toggleable__label {background-color: #d4ebff;}#sk-container-id-3 input.sk-hidden--visually {border: 0;clip: rect(1px 1px 1px 1px);clip: rect(1px, 1px, 1px, 1px);height: 1px;margin: -1px;overflow: hidden;padding: 0;position: absolute;width: 1px;}#sk-container-id-3 div.sk-estimator {font-family: monospace;background-color: #f0f8ff;border: 1px dotted black;border-radius: 0.25em;box-sizing: border-box;margin-bottom: 0.5em;}#sk-container-id-3 div.sk-estimator:hover {background-color: #d4ebff;}#sk-container-id-3 div.sk-parallel-item::after {content: \"\";width: 100%;border-bottom: 1px solid gray;flex-grow: 1;}#sk-container-id-3 div.sk-label:hover label.sk-toggleable__label {background-color: #d4ebff;}#sk-container-id-3 div.sk-serial::before {content: \"\";position: absolute;border-left: 1px solid gray;box-sizing: border-box;top: 0;bottom: 0;left: 50%;z-index: 0;}#sk-container-id-3 div.sk-serial {display: flex;flex-direction: column;align-items: center;background-color: white;padding-right: 0.2em;padding-left: 0.2em;position: relative;}#sk-container-id-3 div.sk-item {position: relative;z-index: 1;}#sk-container-id-3 div.sk-parallel {display: flex;align-items: stretch;justify-content: center;background-color: white;position: relative;}#sk-container-id-3 div.sk-item::before, #sk-container-id-3 div.sk-parallel-item::before {content: \"\";position: absolute;border-left: 1px solid gray;box-sizing: border-box;top: 0;bottom: 0;left: 50%;z-index: -1;}#sk-container-id-3 div.sk-parallel-item {display: flex;flex-direction: column;z-index: 1;position: relative;background-color: white;}#sk-container-id-3 div.sk-parallel-item:first-child::after {align-self: flex-end;width: 50%;}#sk-container-id-3 div.sk-parallel-item:last-child::after {align-self: flex-start;width: 50%;}#sk-container-id-3 div.sk-parallel-item:only-child::after {width: 0;}#sk-container-id-3 div.sk-dashed-wrapped {border: 1px dashed gray;margin: 0 0.4em 0.5em 0.4em;box-sizing: border-box;padding-bottom: 0.4em;background-color: white;}#sk-container-id-3 div.sk-label label {font-family: monospace;font-weight: bold;display: inline-block;line-height: 1.2em;}#sk-container-id-3 div.sk-label-container {text-align: center;}#sk-container-id-3 div.sk-container {/* jupyter's `normalize.less` sets `[hidden] { display: none; }` but bootstrap.min.css set `[hidden] { display: none !important; }` so we also need the `!important` here to be able to override the default hidden behavior on the sphinx rendered scikit-learn.org. See: https://github.com/scikit-learn/scikit-learn/issues/21755 */display: inline-block !important;position: relative;}#sk-container-id-3 div.sk-text-repr-fallback {display: none;}</style><div id=\"sk-container-id-3\" class=\"sk-top-container\"><div class=\"sk-text-repr-fallback\"><pre>VotingClassifier(estimators=[(&#x27;lr&#x27;, LogisticRegression()),\n",
       "                             (&#x27;dt&#x27;,\n",
       "                              DecisionTreeClassifier(criterion=&#x27;entropy&#x27;,\n",
       "                                                     max_depth=18)),\n",
       "                             (&#x27;rf&#x27;, RandomForestClassifier(n_estimators=50)),\n",
       "                             (&#x27;svm&#x27;, SVC()),\n",
       "                             (&#x27;knn&#x27;,\n",
       "                              KNeighborsClassifier(algorithm=&#x27;brute&#x27;,\n",
       "                                                   n_neighbors=3)),\n",
       "                             (&#x27;grbo&#x27;, GradientBoostingClassifier()),\n",
       "                             (&#x27;ad_bo&#x27;,\n",
       "                              AdaBoostClassifier(learning_rate=0.7,\n",
       "                                                 n_estimators=100,\n",
       "                                                 random_state=42))])</pre><b>In a Jupyter environment, please rerun this cell to show the HTML representation or trust the notebook. <br />On GitHub, the HTML representation is unable to render, please try loading this page with nbviewer.org.</b></div><div class=\"sk-container\" hidden><div class=\"sk-item sk-dashed-wrapped\"><div class=\"sk-label-container\"><div class=\"sk-label sk-toggleable\"><input class=\"sk-toggleable__control sk-hidden--visually\" id=\"sk-estimator-id-3\" type=\"checkbox\" ><label for=\"sk-estimator-id-3\" class=\"sk-toggleable__label sk-toggleable__label-arrow\">VotingClassifier</label><div class=\"sk-toggleable__content\"><pre>VotingClassifier(estimators=[(&#x27;lr&#x27;, LogisticRegression()),\n",
       "                             (&#x27;dt&#x27;,\n",
       "                              DecisionTreeClassifier(criterion=&#x27;entropy&#x27;,\n",
       "                                                     max_depth=18)),\n",
       "                             (&#x27;rf&#x27;, RandomForestClassifier(n_estimators=50)),\n",
       "                             (&#x27;svm&#x27;, SVC()),\n",
       "                             (&#x27;knn&#x27;,\n",
       "                              KNeighborsClassifier(algorithm=&#x27;brute&#x27;,\n",
       "                                                   n_neighbors=3)),\n",
       "                             (&#x27;grbo&#x27;, GradientBoostingClassifier()),\n",
       "                             (&#x27;ad_bo&#x27;,\n",
       "                              AdaBoostClassifier(learning_rate=0.7,\n",
       "                                                 n_estimators=100,\n",
       "                                                 random_state=42))])</pre></div></div></div><div class=\"sk-parallel\"><div class=\"sk-parallel-item\"><div class=\"sk-item\"><div class=\"sk-label-container\"><div class=\"sk-label sk-toggleable\"><label>lr</label></div></div><div class=\"sk-serial\"><div class=\"sk-item\"><div class=\"sk-estimator sk-toggleable\"><input class=\"sk-toggleable__control sk-hidden--visually\" id=\"sk-estimator-id-4\" type=\"checkbox\" ><label for=\"sk-estimator-id-4\" class=\"sk-toggleable__label sk-toggleable__label-arrow\">LogisticRegression</label><div class=\"sk-toggleable__content\"><pre>LogisticRegression()</pre></div></div></div></div></div></div><div class=\"sk-parallel-item\"><div class=\"sk-item\"><div class=\"sk-label-container\"><div class=\"sk-label sk-toggleable\"><label>dt</label></div></div><div class=\"sk-serial\"><div class=\"sk-item\"><div class=\"sk-estimator sk-toggleable\"><input class=\"sk-toggleable__control sk-hidden--visually\" id=\"sk-estimator-id-5\" type=\"checkbox\" ><label for=\"sk-estimator-id-5\" class=\"sk-toggleable__label sk-toggleable__label-arrow\">DecisionTreeClassifier</label><div class=\"sk-toggleable__content\"><pre>DecisionTreeClassifier(criterion=&#x27;entropy&#x27;, max_depth=18)</pre></div></div></div></div></div></div><div class=\"sk-parallel-item\"><div class=\"sk-item\"><div class=\"sk-label-container\"><div class=\"sk-label sk-toggleable\"><label>rf</label></div></div><div class=\"sk-serial\"><div class=\"sk-item\"><div class=\"sk-estimator sk-toggleable\"><input class=\"sk-toggleable__control sk-hidden--visually\" id=\"sk-estimator-id-6\" type=\"checkbox\" ><label for=\"sk-estimator-id-6\" class=\"sk-toggleable__label sk-toggleable__label-arrow\">RandomForestClassifier</label><div class=\"sk-toggleable__content\"><pre>RandomForestClassifier(n_estimators=50)</pre></div></div></div></div></div></div><div class=\"sk-parallel-item\"><div class=\"sk-item\"><div class=\"sk-label-container\"><div class=\"sk-label sk-toggleable\"><label>svm</label></div></div><div class=\"sk-serial\"><div class=\"sk-item\"><div class=\"sk-estimator sk-toggleable\"><input class=\"sk-toggleable__control sk-hidden--visually\" id=\"sk-estimator-id-7\" type=\"checkbox\" ><label for=\"sk-estimator-id-7\" class=\"sk-toggleable__label sk-toggleable__label-arrow\">SVC</label><div class=\"sk-toggleable__content\"><pre>SVC()</pre></div></div></div></div></div></div><div class=\"sk-parallel-item\"><div class=\"sk-item\"><div class=\"sk-label-container\"><div class=\"sk-label sk-toggleable\"><label>knn</label></div></div><div class=\"sk-serial\"><div class=\"sk-item\"><div class=\"sk-estimator sk-toggleable\"><input class=\"sk-toggleable__control sk-hidden--visually\" id=\"sk-estimator-id-8\" type=\"checkbox\" ><label for=\"sk-estimator-id-8\" class=\"sk-toggleable__label sk-toggleable__label-arrow\">KNeighborsClassifier</label><div class=\"sk-toggleable__content\"><pre>KNeighborsClassifier(algorithm=&#x27;brute&#x27;, n_neighbors=3)</pre></div></div></div></div></div></div><div class=\"sk-parallel-item\"><div class=\"sk-item\"><div class=\"sk-label-container\"><div class=\"sk-label sk-toggleable\"><label>grbo</label></div></div><div class=\"sk-serial\"><div class=\"sk-item\"><div class=\"sk-estimator sk-toggleable\"><input class=\"sk-toggleable__control sk-hidden--visually\" id=\"sk-estimator-id-9\" type=\"checkbox\" ><label for=\"sk-estimator-id-9\" class=\"sk-toggleable__label sk-toggleable__label-arrow\">GradientBoostingClassifier</label><div class=\"sk-toggleable__content\"><pre>GradientBoostingClassifier()</pre></div></div></div></div></div></div><div class=\"sk-parallel-item\"><div class=\"sk-item\"><div class=\"sk-label-container\"><div class=\"sk-label sk-toggleable\"><label>ad_bo</label></div></div><div class=\"sk-serial\"><div class=\"sk-item\"><div class=\"sk-estimator sk-toggleable\"><input class=\"sk-toggleable__control sk-hidden--visually\" id=\"sk-estimator-id-10\" type=\"checkbox\" ><label for=\"sk-estimator-id-10\" class=\"sk-toggleable__label sk-toggleable__label-arrow\">AdaBoostClassifier</label><div class=\"sk-toggleable__content\"><pre>AdaBoostClassifier(learning_rate=0.7, n_estimators=100, random_state=42)</pre></div></div></div></div></div></div></div></div></div></div>"
      ],
      "text/plain": [
       "VotingClassifier(estimators=[('lr', LogisticRegression()),\n",
       "                             ('dt',\n",
       "                              DecisionTreeClassifier(criterion='entropy',\n",
       "                                                     max_depth=18)),\n",
       "                             ('rf', RandomForestClassifier(n_estimators=50)),\n",
       "                             ('svm', SVC()),\n",
       "                             ('knn',\n",
       "                              KNeighborsClassifier(algorithm='brute',\n",
       "                                                   n_neighbors=3)),\n",
       "                             ('grbo', GradientBoostingClassifier()),\n",
       "                             ('ad_bo',\n",
       "                              AdaBoostClassifier(learning_rate=0.7,\n",
       "                                                 n_estimators=100,\n",
       "                                                 random_state=42))])"
      ]
     },
     "execution_count": 29,
     "metadata": {},
     "output_type": "execute_result"
    }
   ],
   "source": [
    "voting_clf=VotingClassifier(\n",
    "    estimators=[\n",
    "        (\"lr\",Lr),\n",
    "        (\"dt\",dt),\n",
    "        (\"rf\",rf),\n",
    "        (\"svm\",svm),\n",
    "        (\"knn\",knn),\n",
    "        (\"grbo\",gra_bo),\n",
    "        (\"ad_bo\",ad_bo)\n",
    "    ],voting=\"hard\"\n",
    "    \n",
    ")\n",
    "voting_clf.fit(X_train,y_train)\n"
   ]
  },
  {
   "cell_type": "code",
   "execution_count": 30,
   "metadata": {},
   "outputs": [
    {
     "name": "stdout",
     "output_type": "stream",
     "text": [
      "0.9584549224389495\n",
      "[[11924   471]\n",
      " [   70   557]]\n"
     ]
    }
   ],
   "source": [
    "pred=voting_clf.predict(X_test)\n",
    "acc=accuracy_score(y_test,pred)\n",
    "print(acc)\n",
    "print(confusion_matrix(y_test,pred))"
   ]
  },
  {
   "cell_type": "code",
   "execution_count": 37,
   "metadata": {},
   "outputs": [],
   "source": [
    "est=[\n",
    "(\"Lr\",LogisticRegression(penalty=\"l2\")),\n",
    "(\"dt\",DecisionTreeClassifier(splitter='best',max_depth=18,criterion=\"entropy\")),\n",
    "(\"rf\",RandomForestClassifier(n_estimators=50,criterion=\"gini\")),\n",
    "(\"svm\",SVC()),\n",
    "(\"knn\",KNeighborsClassifier(n_neighbors=3,algorithm='brute')),\n",
    "(\"gra_bo\",GradientBoostingClassifier(n_estimators=100,loss=\"log_loss\"))\n",
    "]"
   ]
  },
  {
   "cell_type": "code",
   "execution_count": 144,
   "metadata": {},
   "outputs": [],
   "source": [
    "stack=StackingClassifier(estimators=est,final_estimator=xgb.XGBClassifier(objective=\"reg:logistic\",max_depth=18,col_sample=0.4,learning_rate=0.3))"
   ]
  },
  {
   "cell_type": "code",
   "execution_count": 145,
   "metadata": {},
   "outputs": [
    {
     "data": {
      "text/html": [
       "<style>#sk-container-id-22 {color: black;background-color: white;}#sk-container-id-22 pre{padding: 0;}#sk-container-id-22 div.sk-toggleable {background-color: white;}#sk-container-id-22 label.sk-toggleable__label {cursor: pointer;display: block;width: 100%;margin-bottom: 0;padding: 0.3em;box-sizing: border-box;text-align: center;}#sk-container-id-22 label.sk-toggleable__label-arrow:before {content: \"▸\";float: left;margin-right: 0.25em;color: #696969;}#sk-container-id-22 label.sk-toggleable__label-arrow:hover:before {color: black;}#sk-container-id-22 div.sk-estimator:hover label.sk-toggleable__label-arrow:before {color: black;}#sk-container-id-22 div.sk-toggleable__content {max-height: 0;max-width: 0;overflow: hidden;text-align: left;background-color: #f0f8ff;}#sk-container-id-22 div.sk-toggleable__content pre {margin: 0.2em;color: black;border-radius: 0.25em;background-color: #f0f8ff;}#sk-container-id-22 input.sk-toggleable__control:checked~div.sk-toggleable__content {max-height: 200px;max-width: 100%;overflow: auto;}#sk-container-id-22 input.sk-toggleable__control:checked~label.sk-toggleable__label-arrow:before {content: \"▾\";}#sk-container-id-22 div.sk-estimator input.sk-toggleable__control:checked~label.sk-toggleable__label {background-color: #d4ebff;}#sk-container-id-22 div.sk-label input.sk-toggleable__control:checked~label.sk-toggleable__label {background-color: #d4ebff;}#sk-container-id-22 input.sk-hidden--visually {border: 0;clip: rect(1px 1px 1px 1px);clip: rect(1px, 1px, 1px, 1px);height: 1px;margin: -1px;overflow: hidden;padding: 0;position: absolute;width: 1px;}#sk-container-id-22 div.sk-estimator {font-family: monospace;background-color: #f0f8ff;border: 1px dotted black;border-radius: 0.25em;box-sizing: border-box;margin-bottom: 0.5em;}#sk-container-id-22 div.sk-estimator:hover {background-color: #d4ebff;}#sk-container-id-22 div.sk-parallel-item::after {content: \"\";width: 100%;border-bottom: 1px solid gray;flex-grow: 1;}#sk-container-id-22 div.sk-label:hover label.sk-toggleable__label {background-color: #d4ebff;}#sk-container-id-22 div.sk-serial::before {content: \"\";position: absolute;border-left: 1px solid gray;box-sizing: border-box;top: 0;bottom: 0;left: 50%;z-index: 0;}#sk-container-id-22 div.sk-serial {display: flex;flex-direction: column;align-items: center;background-color: white;padding-right: 0.2em;padding-left: 0.2em;position: relative;}#sk-container-id-22 div.sk-item {position: relative;z-index: 1;}#sk-container-id-22 div.sk-parallel {display: flex;align-items: stretch;justify-content: center;background-color: white;position: relative;}#sk-container-id-22 div.sk-item::before, #sk-container-id-22 div.sk-parallel-item::before {content: \"\";position: absolute;border-left: 1px solid gray;box-sizing: border-box;top: 0;bottom: 0;left: 50%;z-index: -1;}#sk-container-id-22 div.sk-parallel-item {display: flex;flex-direction: column;z-index: 1;position: relative;background-color: white;}#sk-container-id-22 div.sk-parallel-item:first-child::after {align-self: flex-end;width: 50%;}#sk-container-id-22 div.sk-parallel-item:last-child::after {align-self: flex-start;width: 50%;}#sk-container-id-22 div.sk-parallel-item:only-child::after {width: 0;}#sk-container-id-22 div.sk-dashed-wrapped {border: 1px dashed gray;margin: 0 0.4em 0.5em 0.4em;box-sizing: border-box;padding-bottom: 0.4em;background-color: white;}#sk-container-id-22 div.sk-label label {font-family: monospace;font-weight: bold;display: inline-block;line-height: 1.2em;}#sk-container-id-22 div.sk-label-container {text-align: center;}#sk-container-id-22 div.sk-container {/* jupyter's `normalize.less` sets `[hidden] { display: none; }` but bootstrap.min.css set `[hidden] { display: none !important; }` so we also need the `!important` here to be able to override the default hidden behavior on the sphinx rendered scikit-learn.org. See: https://github.com/scikit-learn/scikit-learn/issues/21755 */display: inline-block !important;position: relative;}#sk-container-id-22 div.sk-text-repr-fallback {display: none;}</style><div id=\"sk-container-id-22\" class=\"sk-top-container\"><div class=\"sk-text-repr-fallback\"><pre>StackingClassifier(estimators=[(&#x27;Lr&#x27;, LogisticRegression()),\n",
       "                               (&#x27;dt&#x27;,\n",
       "                                DecisionTreeClassifier(criterion=&#x27;entropy&#x27;,\n",
       "                                                       max_depth=18)),\n",
       "                               (&#x27;rf&#x27;, RandomForestClassifier(n_estimators=50)),\n",
       "                               (&#x27;svm&#x27;, SVC()),\n",
       "                               (&#x27;knn&#x27;,\n",
       "                                KNeighborsClassifier(algorithm=&#x27;brute&#x27;,\n",
       "                                                     n_neighbors=3)),\n",
       "                               (&#x27;gra_bo&#x27;, GradientBoostingClassifier())],\n",
       "                   final_estimator=XGBClassifier(base_score=None, booster=None,\n",
       "                                                 call...\n",
       "                                                 feature_types=None, gamma=None,\n",
       "                                                 grow_policy=None,\n",
       "                                                 importance_type=None,\n",
       "                                                 interaction_constraints=None,\n",
       "                                                 learning_rate=0.3,\n",
       "                                                 max_bin=None,\n",
       "                                                 max_cat_threshold=None,\n",
       "                                                 max_cat_to_onehot=None,\n",
       "                                                 max_delta_step=None,\n",
       "                                                 max_depth=18, max_leaves=None,\n",
       "                                                 min_child_weight=None,\n",
       "                                                 missing=nan,\n",
       "                                                 monotone_constraints=None,\n",
       "                                                 multi_strategy=None,\n",
       "                                                 n_estimators=None, n_jobs=None,\n",
       "                                                 num_parallel_tree=None, ...))</pre><b>In a Jupyter environment, please rerun this cell to show the HTML representation or trust the notebook. <br />On GitHub, the HTML representation is unable to render, please try loading this page with nbviewer.org.</b></div><div class=\"sk-container\" hidden><div class=\"sk-item sk-dashed-wrapped\"><div class=\"sk-label-container\"><div class=\"sk-label sk-toggleable\"><input class=\"sk-toggleable__control sk-hidden--visually\" id=\"sk-estimator-id-36\" type=\"checkbox\" ><label for=\"sk-estimator-id-36\" class=\"sk-toggleable__label sk-toggleable__label-arrow\">StackingClassifier</label><div class=\"sk-toggleable__content\"><pre>StackingClassifier(estimators=[(&#x27;Lr&#x27;, LogisticRegression()),\n",
       "                               (&#x27;dt&#x27;,\n",
       "                                DecisionTreeClassifier(criterion=&#x27;entropy&#x27;,\n",
       "                                                       max_depth=18)),\n",
       "                               (&#x27;rf&#x27;, RandomForestClassifier(n_estimators=50)),\n",
       "                               (&#x27;svm&#x27;, SVC()),\n",
       "                               (&#x27;knn&#x27;,\n",
       "                                KNeighborsClassifier(algorithm=&#x27;brute&#x27;,\n",
       "                                                     n_neighbors=3)),\n",
       "                               (&#x27;gra_bo&#x27;, GradientBoostingClassifier())],\n",
       "                   final_estimator=XGBClassifier(base_score=None, booster=None,\n",
       "                                                 call...\n",
       "                                                 feature_types=None, gamma=None,\n",
       "                                                 grow_policy=None,\n",
       "                                                 importance_type=None,\n",
       "                                                 interaction_constraints=None,\n",
       "                                                 learning_rate=0.3,\n",
       "                                                 max_bin=None,\n",
       "                                                 max_cat_threshold=None,\n",
       "                                                 max_cat_to_onehot=None,\n",
       "                                                 max_delta_step=None,\n",
       "                                                 max_depth=18, max_leaves=None,\n",
       "                                                 min_child_weight=None,\n",
       "                                                 missing=nan,\n",
       "                                                 monotone_constraints=None,\n",
       "                                                 multi_strategy=None,\n",
       "                                                 n_estimators=None, n_jobs=None,\n",
       "                                                 num_parallel_tree=None, ...))</pre></div></div></div><div class=\"sk-serial\"><div class=\"sk-item\"><div class=\"sk-parallel\"><div class=\"sk-parallel-item\"><div class=\"sk-item\"><div class=\"sk-label-container\"><div class=\"sk-label sk-toggleable\"><label>Lr</label></div></div><div class=\"sk-serial\"><div class=\"sk-item\"><div class=\"sk-estimator sk-toggleable\"><input class=\"sk-toggleable__control sk-hidden--visually\" id=\"sk-estimator-id-37\" type=\"checkbox\" ><label for=\"sk-estimator-id-37\" class=\"sk-toggleable__label sk-toggleable__label-arrow\">LogisticRegression</label><div class=\"sk-toggleable__content\"><pre>LogisticRegression()</pre></div></div></div></div></div></div><div class=\"sk-parallel-item\"><div class=\"sk-item\"><div class=\"sk-label-container\"><div class=\"sk-label sk-toggleable\"><label>dt</label></div></div><div class=\"sk-serial\"><div class=\"sk-item\"><div class=\"sk-estimator sk-toggleable\"><input class=\"sk-toggleable__control sk-hidden--visually\" id=\"sk-estimator-id-38\" type=\"checkbox\" ><label for=\"sk-estimator-id-38\" class=\"sk-toggleable__label sk-toggleable__label-arrow\">DecisionTreeClassifier</label><div class=\"sk-toggleable__content\"><pre>DecisionTreeClassifier(criterion=&#x27;entropy&#x27;, max_depth=18)</pre></div></div></div></div></div></div><div class=\"sk-parallel-item\"><div class=\"sk-item\"><div class=\"sk-label-container\"><div class=\"sk-label sk-toggleable\"><label>rf</label></div></div><div class=\"sk-serial\"><div class=\"sk-item\"><div class=\"sk-estimator sk-toggleable\"><input class=\"sk-toggleable__control sk-hidden--visually\" id=\"sk-estimator-id-39\" type=\"checkbox\" ><label for=\"sk-estimator-id-39\" class=\"sk-toggleable__label sk-toggleable__label-arrow\">RandomForestClassifier</label><div class=\"sk-toggleable__content\"><pre>RandomForestClassifier(n_estimators=50)</pre></div></div></div></div></div></div><div class=\"sk-parallel-item\"><div class=\"sk-item\"><div class=\"sk-label-container\"><div class=\"sk-label sk-toggleable\"><label>svm</label></div></div><div class=\"sk-serial\"><div class=\"sk-item\"><div class=\"sk-estimator sk-toggleable\"><input class=\"sk-toggleable__control sk-hidden--visually\" id=\"sk-estimator-id-40\" type=\"checkbox\" ><label for=\"sk-estimator-id-40\" class=\"sk-toggleable__label sk-toggleable__label-arrow\">SVC</label><div class=\"sk-toggleable__content\"><pre>SVC()</pre></div></div></div></div></div></div><div class=\"sk-parallel-item\"><div class=\"sk-item\"><div class=\"sk-label-container\"><div class=\"sk-label sk-toggleable\"><label>knn</label></div></div><div class=\"sk-serial\"><div class=\"sk-item\"><div class=\"sk-estimator sk-toggleable\"><input class=\"sk-toggleable__control sk-hidden--visually\" id=\"sk-estimator-id-41\" type=\"checkbox\" ><label for=\"sk-estimator-id-41\" class=\"sk-toggleable__label sk-toggleable__label-arrow\">KNeighborsClassifier</label><div class=\"sk-toggleable__content\"><pre>KNeighborsClassifier(algorithm=&#x27;brute&#x27;, n_neighbors=3)</pre></div></div></div></div></div></div><div class=\"sk-parallel-item\"><div class=\"sk-item\"><div class=\"sk-label-container\"><div class=\"sk-label sk-toggleable\"><label>gra_bo</label></div></div><div class=\"sk-serial\"><div class=\"sk-item\"><div class=\"sk-estimator sk-toggleable\"><input class=\"sk-toggleable__control sk-hidden--visually\" id=\"sk-estimator-id-42\" type=\"checkbox\" ><label for=\"sk-estimator-id-42\" class=\"sk-toggleable__label sk-toggleable__label-arrow\">GradientBoostingClassifier</label><div class=\"sk-toggleable__content\"><pre>GradientBoostingClassifier()</pre></div></div></div></div></div></div></div></div><div class=\"sk-item\"><div class=\"sk-parallel\"><div class=\"sk-parallel-item\"><div class=\"sk-item\"><div class=\"sk-label-container\"><div class=\"sk-label sk-toggleable\"><label>final_estimator</label></div></div><div class=\"sk-serial\"><div class=\"sk-item\"><div class=\"sk-estimator sk-toggleable\"><input class=\"sk-toggleable__control sk-hidden--visually\" id=\"sk-estimator-id-43\" type=\"checkbox\" ><label for=\"sk-estimator-id-43\" class=\"sk-toggleable__label sk-toggleable__label-arrow\">XGBClassifier</label><div class=\"sk-toggleable__content\"><pre>XGBClassifier(base_score=None, booster=None, callbacks=None, col_sample=0.4,\n",
       "              colsample_bylevel=None, colsample_bynode=None,\n",
       "              colsample_bytree=None, device=None, early_stopping_rounds=None,\n",
       "              enable_categorical=False, eval_metric=None, feature_types=None,\n",
       "              gamma=None, grow_policy=None, importance_type=None,\n",
       "              interaction_constraints=None, learning_rate=0.3, max_bin=None,\n",
       "              max_cat_threshold=None, max_cat_to_onehot=None,\n",
       "              max_delta_step=None, max_depth=18, max_leaves=None,\n",
       "              min_child_weight=None, missing=nan, monotone_constraints=None,\n",
       "              multi_strategy=None, n_estimators=None, n_jobs=None,\n",
       "              num_parallel_tree=None, ...)</pre></div></div></div></div></div></div></div></div></div></div></div></div>"
      ],
      "text/plain": [
       "StackingClassifier(estimators=[('Lr', LogisticRegression()),\n",
       "                               ('dt',\n",
       "                                DecisionTreeClassifier(criterion='entropy',\n",
       "                                                       max_depth=18)),\n",
       "                               ('rf', RandomForestClassifier(n_estimators=50)),\n",
       "                               ('svm', SVC()),\n",
       "                               ('knn',\n",
       "                                KNeighborsClassifier(algorithm='brute',\n",
       "                                                     n_neighbors=3)),\n",
       "                               ('gra_bo', GradientBoostingClassifier())],\n",
       "                   final_estimator=XGBClassifier(base_score=None, booster=None,\n",
       "                                                 call...\n",
       "                                                 feature_types=None, gamma=None,\n",
       "                                                 grow_policy=None,\n",
       "                                                 importance_type=None,\n",
       "                                                 interaction_constraints=None,\n",
       "                                                 learning_rate=0.3,\n",
       "                                                 max_bin=None,\n",
       "                                                 max_cat_threshold=None,\n",
       "                                                 max_cat_to_onehot=None,\n",
       "                                                 max_delta_step=None,\n",
       "                                                 max_depth=18, max_leaves=None,\n",
       "                                                 min_child_weight=None,\n",
       "                                                 missing=nan,\n",
       "                                                 monotone_constraints=None,\n",
       "                                                 multi_strategy=None,\n",
       "                                                 n_estimators=None, n_jobs=None,\n",
       "                                                 num_parallel_tree=None, ...))"
      ]
     },
     "execution_count": 145,
     "metadata": {},
     "output_type": "execute_result"
    }
   ],
   "source": [
    "stack.fit(X_train,y_train)"
   ]
  },
  {
   "cell_type": "code",
   "execution_count": 146,
   "metadata": {},
   "outputs": [],
   "source": [
    "stack_pred=stack.predict(X_test)"
   ]
  },
  {
   "cell_type": "code",
   "execution_count": 147,
   "metadata": {},
   "outputs": [
    {
     "data": {
      "text/plain": [
       "0.9521578866533559"
      ]
     },
     "execution_count": 147,
     "metadata": {},
     "output_type": "execute_result"
    }
   ],
   "source": [
    "accuracy_score(y_test,stack_pred)"
   ]
  },
  {
   "cell_type": "code",
   "execution_count": 148,
   "metadata": {},
   "outputs": [
    {
     "data": {
      "text/plain": [
       "array([[12395,     0],\n",
       "       [  623,     4]], dtype=int64)"
      ]
     },
     "execution_count": 148,
     "metadata": {},
     "output_type": "execute_result"
    }
   ],
   "source": [
    "confusion_matrix(y_test,stack_pred)"
   ]
  },
  {
   "cell_type": "markdown",
   "metadata": {},
   "source": [
    "# Instantiate  extream gradiant boosting with some parameters"
   ]
  },
  {
   "cell_type": "code",
   "execution_count": 178,
   "metadata": {},
   "outputs": [],
   "source": [
    "xg_boost=xgb.XGBClassifier(n_estimators=100,objective=\"reg:logistic\",max_depth=18,col_sample=0.3,learning_rate=0.3,)\n",
    " "
   ]
  },
  {
   "cell_type": "code",
   "execution_count": 179,
   "metadata": {},
   "outputs": [
    {
     "data": {
      "text/html": [
       "<style>#sk-container-id-31 {color: black;background-color: white;}#sk-container-id-31 pre{padding: 0;}#sk-container-id-31 div.sk-toggleable {background-color: white;}#sk-container-id-31 label.sk-toggleable__label {cursor: pointer;display: block;width: 100%;margin-bottom: 0;padding: 0.3em;box-sizing: border-box;text-align: center;}#sk-container-id-31 label.sk-toggleable__label-arrow:before {content: \"▸\";float: left;margin-right: 0.25em;color: #696969;}#sk-container-id-31 label.sk-toggleable__label-arrow:hover:before {color: black;}#sk-container-id-31 div.sk-estimator:hover label.sk-toggleable__label-arrow:before {color: black;}#sk-container-id-31 div.sk-toggleable__content {max-height: 0;max-width: 0;overflow: hidden;text-align: left;background-color: #f0f8ff;}#sk-container-id-31 div.sk-toggleable__content pre {margin: 0.2em;color: black;border-radius: 0.25em;background-color: #f0f8ff;}#sk-container-id-31 input.sk-toggleable__control:checked~div.sk-toggleable__content {max-height: 200px;max-width: 100%;overflow: auto;}#sk-container-id-31 input.sk-toggleable__control:checked~label.sk-toggleable__label-arrow:before {content: \"▾\";}#sk-container-id-31 div.sk-estimator input.sk-toggleable__control:checked~label.sk-toggleable__label {background-color: #d4ebff;}#sk-container-id-31 div.sk-label input.sk-toggleable__control:checked~label.sk-toggleable__label {background-color: #d4ebff;}#sk-container-id-31 input.sk-hidden--visually {border: 0;clip: rect(1px 1px 1px 1px);clip: rect(1px, 1px, 1px, 1px);height: 1px;margin: -1px;overflow: hidden;padding: 0;position: absolute;width: 1px;}#sk-container-id-31 div.sk-estimator {font-family: monospace;background-color: #f0f8ff;border: 1px dotted black;border-radius: 0.25em;box-sizing: border-box;margin-bottom: 0.5em;}#sk-container-id-31 div.sk-estimator:hover {background-color: #d4ebff;}#sk-container-id-31 div.sk-parallel-item::after {content: \"\";width: 100%;border-bottom: 1px solid gray;flex-grow: 1;}#sk-container-id-31 div.sk-label:hover label.sk-toggleable__label {background-color: #d4ebff;}#sk-container-id-31 div.sk-serial::before {content: \"\";position: absolute;border-left: 1px solid gray;box-sizing: border-box;top: 0;bottom: 0;left: 50%;z-index: 0;}#sk-container-id-31 div.sk-serial {display: flex;flex-direction: column;align-items: center;background-color: white;padding-right: 0.2em;padding-left: 0.2em;position: relative;}#sk-container-id-31 div.sk-item {position: relative;z-index: 1;}#sk-container-id-31 div.sk-parallel {display: flex;align-items: stretch;justify-content: center;background-color: white;position: relative;}#sk-container-id-31 div.sk-item::before, #sk-container-id-31 div.sk-parallel-item::before {content: \"\";position: absolute;border-left: 1px solid gray;box-sizing: border-box;top: 0;bottom: 0;left: 50%;z-index: -1;}#sk-container-id-31 div.sk-parallel-item {display: flex;flex-direction: column;z-index: 1;position: relative;background-color: white;}#sk-container-id-31 div.sk-parallel-item:first-child::after {align-self: flex-end;width: 50%;}#sk-container-id-31 div.sk-parallel-item:last-child::after {align-self: flex-start;width: 50%;}#sk-container-id-31 div.sk-parallel-item:only-child::after {width: 0;}#sk-container-id-31 div.sk-dashed-wrapped {border: 1px dashed gray;margin: 0 0.4em 0.5em 0.4em;box-sizing: border-box;padding-bottom: 0.4em;background-color: white;}#sk-container-id-31 div.sk-label label {font-family: monospace;font-weight: bold;display: inline-block;line-height: 1.2em;}#sk-container-id-31 div.sk-label-container {text-align: center;}#sk-container-id-31 div.sk-container {/* jupyter's `normalize.less` sets `[hidden] { display: none; }` but bootstrap.min.css set `[hidden] { display: none !important; }` so we also need the `!important` here to be able to override the default hidden behavior on the sphinx rendered scikit-learn.org. See: https://github.com/scikit-learn/scikit-learn/issues/21755 */display: inline-block !important;position: relative;}#sk-container-id-31 div.sk-text-repr-fallback {display: none;}</style><div id=\"sk-container-id-31\" class=\"sk-top-container\"><div class=\"sk-text-repr-fallback\"><pre>XGBClassifier(base_score=None, booster=None, callbacks=None, col_sample=0.3,\n",
       "              colsample_bylevel=None, colsample_bynode=None,\n",
       "              colsample_bytree=None, device=None, early_stopping_rounds=None,\n",
       "              enable_categorical=False, eval_metric=None, feature_types=None,\n",
       "              gamma=None, grow_policy=None, importance_type=None,\n",
       "              interaction_constraints=None, learning_rate=0.3, max_bin=None,\n",
       "              max_cat_threshold=None, max_cat_to_onehot=None,\n",
       "              max_delta_step=None, max_depth=18, max_leaves=None,\n",
       "              min_child_weight=None, missing=nan, monotone_constraints=None,\n",
       "              multi_strategy=None, n_estimators=100, n_jobs=None,\n",
       "              num_parallel_tree=None, ...)</pre><b>In a Jupyter environment, please rerun this cell to show the HTML representation or trust the notebook. <br />On GitHub, the HTML representation is unable to render, please try loading this page with nbviewer.org.</b></div><div class=\"sk-container\" hidden><div class=\"sk-item\"><div class=\"sk-estimator sk-toggleable\"><input class=\"sk-toggleable__control sk-hidden--visually\" id=\"sk-estimator-id-52\" type=\"checkbox\" checked><label for=\"sk-estimator-id-52\" class=\"sk-toggleable__label sk-toggleable__label-arrow\">XGBClassifier</label><div class=\"sk-toggleable__content\"><pre>XGBClassifier(base_score=None, booster=None, callbacks=None, col_sample=0.3,\n",
       "              colsample_bylevel=None, colsample_bynode=None,\n",
       "              colsample_bytree=None, device=None, early_stopping_rounds=None,\n",
       "              enable_categorical=False, eval_metric=None, feature_types=None,\n",
       "              gamma=None, grow_policy=None, importance_type=None,\n",
       "              interaction_constraints=None, learning_rate=0.3, max_bin=None,\n",
       "              max_cat_threshold=None, max_cat_to_onehot=None,\n",
       "              max_delta_step=None, max_depth=18, max_leaves=None,\n",
       "              min_child_weight=None, missing=nan, monotone_constraints=None,\n",
       "              multi_strategy=None, n_estimators=100, n_jobs=None,\n",
       "              num_parallel_tree=None, ...)</pre></div></div></div></div></div>"
      ],
      "text/plain": [
       "XGBClassifier(base_score=None, booster=None, callbacks=None, col_sample=0.3,\n",
       "              colsample_bylevel=None, colsample_bynode=None,\n",
       "              colsample_bytree=None, device=None, early_stopping_rounds=None,\n",
       "              enable_categorical=False, eval_metric=None, feature_types=None,\n",
       "              gamma=None, grow_policy=None, importance_type=None,\n",
       "              interaction_constraints=None, learning_rate=0.3, max_bin=None,\n",
       "              max_cat_threshold=None, max_cat_to_onehot=None,\n",
       "              max_delta_step=None, max_depth=18, max_leaves=None,\n",
       "              min_child_weight=None, missing=nan, monotone_constraints=None,\n",
       "              multi_strategy=None, n_estimators=100, n_jobs=None,\n",
       "              num_parallel_tree=None, ...)"
      ]
     },
     "execution_count": 179,
     "metadata": {},
     "output_type": "execute_result"
    }
   ],
   "source": [
    "xg_boost.fit(X_train,y_train)\n"
   ]
  },
  {
   "cell_type": "code",
   "execution_count": 180,
   "metadata": {},
   "outputs": [
    {
     "data": {
      "text/plain": [
       "0.9809553064045462"
      ]
     },
     "execution_count": 180,
     "metadata": {},
     "output_type": "execute_result"
    }
   ],
   "source": [
    "pred=xg_boost.predict(X_test)\n",
    "accuracy_score(pred,y_test)"
   ]
  },
  {
   "cell_type": "code",
   "execution_count": 181,
   "metadata": {},
   "outputs": [
    {
     "data": {
      "text/plain": [
       "array([[12310,   163],\n",
       "       [   85,   464]], dtype=int64)"
      ]
     },
     "execution_count": 181,
     "metadata": {},
     "output_type": "execute_result"
    }
   ],
   "source": [
    "confusion_matrix(pred,y_test)"
   ]
  },
  {
   "cell_type": "code",
   "execution_count": 182,
   "metadata": {},
   "outputs": [
    {
     "name": "stdout",
     "output_type": "stream",
     "text": [
      "              precision    recall  f1-score   support\n",
      "\n",
      "           0       0.99      0.99      0.99     12473\n",
      "           1       0.74      0.85      0.79       549\n",
      "\n",
      "    accuracy                           0.98     13022\n",
      "   macro avg       0.87      0.92      0.89     13022\n",
      "weighted avg       0.98      0.98      0.98     13022\n",
      "\n"
     ]
    }
   ],
   "source": [
    "print(classification_report(pred,y_test))"
   ]
  },
  {
   "cell_type": "markdown",
   "metadata": {},
   "source": [
    "# `Conclusion`"
   ]
  },
  {
   "cell_type": "markdown",
   "metadata": {},
   "source": [
    "### The above model has performed very good with its test data and has scored `0.99` and `0.74` on its `Precision` and `0.99` , `0.85` on   `Recall`. so that we can conclude that this random forest model can predict unknown data with a good accuracy and precision."
   ]
  },
  {
   "cell_type": "markdown",
   "metadata": {},
   "source": [
    "# `----------------------<<<>>>----------------------`"
   ]
  },
  {
   "cell_type": "markdown",
   "metadata": {},
   "source": []
  }
 ],
 "metadata": {
  "kernelspec": {
   "display_name": "Python 3",
   "language": "python",
   "name": "python3"
  },
  "language_info": {
   "codemirror_mode": {
    "name": "ipython",
    "version": 3
   },
   "file_extension": ".py",
   "mimetype": "text/x-python",
   "name": "python",
   "nbconvert_exporter": "python",
   "pygments_lexer": "ipython3",
   "version": "3.10.11"
  },
  "orig_nbformat": 4
 },
 "nbformat": 4,
 "nbformat_minor": 2
}
